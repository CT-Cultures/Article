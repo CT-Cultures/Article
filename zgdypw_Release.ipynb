{
 "cells": [
  {
   "cell_type": "markdown",
   "metadata": {
    "id": "QkqfZyMoUCvx"
   },
   "source": [
    "#Mount Google Drive, Define **Path**\n",
    "\n"
   ]
  },
  {
   "cell_type": "code",
   "execution_count": null,
   "metadata": {
    "colab": {
     "base_uri": "https://localhost:8080/"
    },
    "executionInfo": {
     "elapsed": 301,
     "status": "ok",
     "timestamp": 1635903663420,
     "user": {
      "displayName": "Xu Vee",
      "photoUrl": "https://lh3.googleusercontent.com/a-/AOh14GjNTzTx2PmIBbypp7-eWIRwMo4-I9DLyTz70KE9_g=s64",
      "userId": "12955926615284697296"
     },
     "user_tz": 420
    },
    "id": "U5BZsDJ2T1Wb",
    "outputId": "06615258-5bde-4901-b0c4-f01b63adcd51"
   },
   "outputs": [
    {
     "name": "stdout",
     "output_type": "stream",
     "text": [
      "Drive already mounted at /content/drive; to attempt to forcibly remount, call drive.mount(\"/content/drive\", force_remount=True).\n"
     ]
    }
   ],
   "source": [
    "from google.colab import drive\n",
    "import os\n",
    "import sys\n",
    "drive.mount('/content/drive')"
   ]
  },
  {
   "cell_type": "code",
   "execution_count": null,
   "metadata": {
    "id": "2Ft1E3-pCKYr"
   },
   "outputs": [],
   "source": [
    "# Define Path\n",
    "path_records = '/content/drive/MyDrive/Github/Article/records'\n",
    "# Set Path\n",
    "path_wd = '/content/drive/MyDrive/Github/Article'\n",
    "path_font = '/content/drive/MyDrive/Github/Article/fonts/STHUPO.TTF'\n",
    "path_img = '/content/drive/MyDrive/Github/Article/img'\n",
    "path_reg = '/content/drive/MyDrive/Github/Content/sources/ChinaFilm'\n",
    "path_zgdypw = '/content/drive/MyDrive/Github/Content/sources/zgdypw'\n",
    "\n",
    "os.chdir(path_wd)"
   ]
  },
  {
   "cell_type": "markdown",
   "metadata": {
    "id": "J0XPUgCVSsWx"
   },
   "source": [
    "# Install requirements and restart"
   ]
  },
  {
   "cell_type": "code",
   "execution_count": null,
   "metadata": {
    "id": "N4Exqy6zixm4"
   },
   "outputs": [],
   "source": [
    "%%capture\n",
    "!pip install pandas==1.3.2\n",
    "!pip install transformers\n",
    "# Install Requirements\n",
    "!pip install -r /content/drive/MyDrive/Github/Content/sources/ChinaFilm/requirements.txt\n",
    "!apt update\n",
    "#!apt-get update # to update ubuntu to correctly run apt install\n",
    "!apt install chromium-chromedriver\n",
    "!cp /usr/lib/chromium-browser/chromedriver /usr/bin\n",
    "!pip install selenium\n",
    "sys.path.insert(0,'/usr/lib/chromium-browser/chromedriver')"
   ]
  },
  {
   "cell_type": "markdown",
   "metadata": {
    "id": "G6szDM3sd3jz"
   },
   "source": [
    "# Import Libraries"
   ]
  },
  {
   "cell_type": "code",
   "execution_count": 3,
   "metadata": {
    "colab": {
     "base_uri": "https://localhost:8080/"
    },
    "executionInfo": {
     "elapsed": 35274,
     "status": "ok",
     "timestamp": 1635903718444,
     "user": {
      "displayName": "Xu Vee",
      "photoUrl": "https://lh3.googleusercontent.com/a-/AOh14GjNTzTx2PmIBbypp7-eWIRwMo4-I9DLyTz70KE9_g=s64",
      "userId": "12955926615284697296"
     },
     "user_tz": 420
    },
    "id": "Jv6Z5-vb5XXy",
    "outputId": "da7a7f24-0a67-4932-bc28-c57a10d37b5e"
   },
   "outputs": [
    {
     "ename": "ModuleNotFoundError",
     "evalue": "No module named 'seaborn'",
     "output_type": "error",
     "traceback": [
      "\u001b[1;31m---------------------------------------------------------------------------\u001b[0m",
      "\u001b[1;31mModuleNotFoundError\u001b[0m                       Traceback (most recent call last)",
      "\u001b[1;32m~\\AppData\\Local\\Temp/ipykernel_3640/1193622111.py\u001b[0m in \u001b[0;36m<module>\u001b[1;34m\u001b[0m\n\u001b[0;32m     19\u001b[0m \u001b[1;32mimport\u001b[0m \u001b[0mmatplotlib\u001b[0m \u001b[1;32mas\u001b[0m \u001b[0mmp\u001b[0m\u001b[1;33m\u001b[0m\u001b[1;33m\u001b[0m\u001b[0m\n\u001b[0;32m     20\u001b[0m \u001b[1;32mimport\u001b[0m \u001b[0mmatplotlib\u001b[0m\u001b[1;33m.\u001b[0m\u001b[0mpyplot\u001b[0m \u001b[1;32mas\u001b[0m \u001b[0mplt\u001b[0m\u001b[1;33m\u001b[0m\u001b[1;33m\u001b[0m\u001b[0m\n\u001b[1;32m---> 21\u001b[1;33m \u001b[1;32mimport\u001b[0m \u001b[0mseaborn\u001b[0m \u001b[1;32mas\u001b[0m \u001b[0msns\u001b[0m\u001b[1;33m\u001b[0m\u001b[1;33m\u001b[0m\u001b[0m\n\u001b[0m\u001b[0;32m     22\u001b[0m \u001b[1;32mfrom\u001b[0m \u001b[0mIPython\u001b[0m\u001b[1;33m.\u001b[0m\u001b[0mdisplay\u001b[0m \u001b[1;32mimport\u001b[0m \u001b[0mdisplay\u001b[0m\u001b[1;33m,\u001b[0m \u001b[0mHTML\u001b[0m\u001b[1;33m\u001b[0m\u001b[1;33m\u001b[0m\u001b[0m\n\u001b[0;32m     23\u001b[0m \u001b[1;32mimport\u001b[0m \u001b[0mmatplotlib\u001b[0m\u001b[1;33m.\u001b[0m\u001b[0mfont_manager\u001b[0m \u001b[1;32mas\u001b[0m \u001b[0mfm\u001b[0m\u001b[1;33m\u001b[0m\u001b[1;33m\u001b[0m\u001b[0m\n",
      "\u001b[1;31mModuleNotFoundError\u001b[0m: No module named 'seaborn'"
     ]
    }
   ],
   "source": [
    "# Import External Libs\n",
    "import pandas as pd\n",
    "import numpy as np\n",
    "import datetime as dt\n",
    "import re\n",
    "import gc\n",
    "import random\n",
    "\n",
    "from IPython.display import display, HTML\n",
    "import torch\n",
    "from transformers import AdamW, BartForConditionalGeneration\n",
    "\n",
    "from selenium import webdriver\n",
    "\n",
    "import jieba.analyse\n",
    "tfidf = jieba.analyse.extract_tags\n",
    "textrank = jieba.analyse.textrank\n",
    "\n",
    "import matplotlib as mp\n",
    "import matplotlib.pyplot as plt\n",
    "import seaborn as sns\n",
    "from IPython.display import display, HTML\n",
    "import matplotlib.font_manager as fm\n",
    "\n",
    "path_fonts = '/content/drive/MyDrive/Github/Article/fonts'\n",
    "fontprop = fm.FontProperties(fname=path_fonts, size= 15)\n",
    "\n",
    "font_dirs = [path_fonts, ]\n",
    "font_files = fm.findSystemFonts(fontpaths=font_dirs)\n",
    "#font_list = fm.createFontList(font_files)\n",
    "for font in font_files:\n",
    "  fm.fontManager.addfont(font)\n",
    "\n",
    "plt.rcParams['figure.figsize'] = [15, 9]\n",
    "mp.rcParams['font.family'] = ['Microsoft YaHei']\n",
    "\n",
    "%matplotlib inline"
   ]
  },
  {
   "cell_type": "code",
   "execution_count": null,
   "metadata": {
    "id": "mA6Fb60V9VAy"
   },
   "outputs": [],
   "source": [
    "# Load Libraries Local\n",
    "path_Content = '/content/drive/MyDrive/Github/Content'\n",
    "os.chdir(path_Content)\n",
    "\n",
    "#%load_ext autoreload\n",
    "%reload_ext autoreload\n",
    "\n",
    "# ZGDYPW\n",
    "os.chdir(path_Content + '/sources/zgdypw')\n",
    "from zgdypw import ZGDYPW\n",
    "zgd = ZGDYPW()\n",
    "\n",
    "# Chromedriver\n",
    "chrome_options = webdriver.ChromeOptions()\n",
    "chrome_options.add_argument('--headless')\n",
    "chrome_options.add_argument('--no-sandbox')\n",
    "chrome_options.add_argument('--disable-dev-shm-usage')\n",
    "driver = webdriver.Chrome('chromedriver',options=chrome_options)\n",
    "\n",
    "# ChinaFilm\n",
    "os.chdir(path_Content + '/sources/ChinaFilm')\n",
    "from Record_Registration import Registration\n",
    "dy_reg = Registration(driver)\n",
    "\n",
    "os.chdir(path_wd)\n",
    "from generate import utils"
   ]
  },
  {
   "cell_type": "markdown",
   "metadata": {
    "id": "7tDHsiJT5CuB"
   },
   "source": [
    "#Load Release and Registration Records"
   ]
  },
  {
   "cell_type": "markdown",
   "metadata": {
    "id": "AuZ8llVQd3Yx"
   },
   "source": [
    "## Update Sources to latest"
   ]
  },
  {
   "cell_type": "code",
   "execution_count": null,
   "metadata": {
    "id": "mhP9Bm3SqwJB"
   },
   "outputs": [],
   "source": [
    "# Update ChinaFilm Release Records\n",
    "path_reg = '/content/drive/MyDrive/Github/Content/sources/ChinaFilm'\n",
    "os.chdir(path_reg)\n",
    "#!python Update_Release.py"
   ]
  },
  {
   "cell_type": "code",
   "execution_count": null,
   "metadata": {
    "id": "HoD8BFi1ePaa"
   },
   "outputs": [],
   "source": [
    "# Update ChinaFilm Reg Records\n",
    "path_reg = '/content/drive/MyDrive/Github/Content/sources/ChinaFilm'\n",
    "os.chdir(path_reg)\n",
    "#!python Update_Registration.py"
   ]
  },
  {
   "cell_type": "code",
   "execution_count": null,
   "metadata": {
    "colab": {
     "base_uri": "https://localhost:8080/"
    },
    "executionInfo": {
     "elapsed": 1130,
     "status": "ok",
     "timestamp": 1635906230552,
     "user": {
      "displayName": "Xu Vee",
      "photoUrl": "https://lh3.googleusercontent.com/a-/AOh14GjNTzTx2PmIBbypp7-eWIRwMo4-I9DLyTz70KE9_g=s64",
      "userId": "12955926615284697296"
     },
     "user_tz": 420
    },
    "id": "3sgUSbfKO0ry",
    "outputId": "2eb67887-de2d-49ea-c1af-b50efe91de20"
   },
   "outputs": [
    {
     "name": "stdout",
     "output_type": "stream",
     "text": [
      "Traceback (most recent call last):\n",
      "  File \"update.py\", line 14, in <module>\n",
      "    from zgdypw import ZGDYPW\n",
      "  File \"/content/drive/MyDrive/Github/Content/sources/zgdypw/zgdypw.py\", line 25, in <module>\n",
      "    from utils import DB\n",
      "ModuleNotFoundError: No module named 'utils'\n"
     ]
    }
   ],
   "source": [
    "# Update zgdypw Release Records\n",
    "path_rel = '/content/drive/MyDrive/Github/Content/sources/zgdypw'\n",
    "os.chdir(path_rel)\n",
    "!python update.py"
   ]
  },
  {
   "cell_type": "markdown",
   "metadata": {
    "id": "hWE0CTTHdxYE"
   },
   "source": [
    "## Import Records"
   ]
  },
  {
   "cell_type": "code",
   "execution_count": null,
   "metadata": {
    "colab": {
     "base_uri": "https://localhost:8080/"
    },
    "executionInfo": {
     "elapsed": 480,
     "status": "ok",
     "timestamp": 1635908922347,
     "user": {
      "displayName": "Xu Vee",
      "photoUrl": "https://lh3.googleusercontent.com/a-/AOh14GjNTzTx2PmIBbypp7-eWIRwMo4-I9DLyTz70KE9_g=s64",
      "userId": "12955926615284697296"
     },
     "user_tz": 420
    },
    "id": "Wa5DZrtWZogH",
    "outputId": "5708e9e4-522a-49a5-a6c4-0e44f4f29c75"
   },
   "outputs": [
    {
     "name": "stderr",
     "output_type": "stream",
     "text": [
      "/usr/local/lib/python3.7/dist-packages/pandas/core/indexing.py:1951: SettingWithCopyWarning: \n",
      "A value is trying to be set on a copy of a slice from a DataFrame.\n",
      "Try using .loc[row_indexer,col_indexer] = value instead\n",
      "\n",
      "See the caveats in the documentation: https://pandas.pydata.org/pandas-docs/stable/user_guide/indexing.html#returning-a-view-versus-a-copy\n",
      "  self.obj[selected_item_labels] = value\n",
      "/usr/local/lib/python3.7/dist-packages/pandas/core/indexing.py:1773: SettingWithCopyWarning: \n",
      "A value is trying to be set on a copy of a slice from a DataFrame.\n",
      "Try using .loc[row_indexer,col_indexer] = value instead\n",
      "\n",
      "See the caveats in the documentation: https://pandas.pydata.org/pandas-docs/stable/user_guide/indexing.html#returning-a-view-versus-a-copy\n",
      "  self._setitem_single_column(ilocs[0], value, pi)\n"
     ]
    },
    {
     "data": {
      "text/plain": [
       "9002"
      ]
     },
     "execution_count": 41,
     "metadata": {},
     "output_type": "execute_result"
    }
   ],
   "source": [
    "# Import zgdypow Releases\n",
    "fp = path_rel + '/records/contents_of_releases.json'\n",
    "df_rel = pd.read_json(fp)\n",
    "df_rel = df_rel.sort_values('pubdate', ascending=False)\n",
    "str_pubdate_latest = df_rel['pubdate'].iloc[0]\n",
    "\n",
    "df_rel_curr = df_rel[df_rel['pubdate'] == str_pubdate_latest]\n",
    "df_rel_curr.loc[:, 'pubdate'] = pd.to_datetime(df_rel_curr['pubdate'])\n",
    "df_rel_curr.loc[:, '上映日期'] = pd.to_datetime(df_rel_curr['上映日期'])\n",
    "df_rel_curr = df_rel_curr.sort_values('上映日期')\n",
    "dt_pubdate_latest = df_rel_curr['pubdate'].iloc[0]\n",
    "\n",
    "#del df_rel\n",
    "gc.collect()"
   ]
  },
  {
   "cell_type": "code",
   "execution_count": null,
   "metadata": {
    "colab": {
     "base_uri": "https://localhost:8080/"
    },
    "executionInfo": {
     "elapsed": 5,
     "status": "ok",
     "timestamp": 1635908922348,
     "user": {
      "displayName": "Xu Vee",
      "photoUrl": "https://lh3.googleusercontent.com/a-/AOh14GjNTzTx2PmIBbypp7-eWIRwMo4-I9DLyTz70KE9_g=s64",
      "userId": "12955926615284697296"
     },
     "user_tz": 420
    },
    "id": "fIMdJOecm448",
    "outputId": "c33af237-d31c-4695-e9c6-ba9da977fe18"
   },
   "outputs": [
    {
     "data": {
      "text/plain": [
       "Timestamp('2021-11-01 00:00:00')"
      ]
     },
     "execution_count": 42,
     "metadata": {},
     "output_type": "execute_result"
    }
   ],
   "source": [
    "dt_pubdate_latest"
   ]
  },
  {
   "cell_type": "code",
   "execution_count": null,
   "metadata": {
    "id": "ja1b6v6Q4kCN"
   },
   "outputs": [],
   "source": [
    "# Import ChinaFilm Registrations\n",
    "fp = '/content/drive/MyDrive/Github/Content/sources/ChinaFilm/records/contents_of_registrations.json'\n",
    "df_reg = pd.read_json(fp, orient='record')\n",
    "df_reg['匹配片名'] = df_reg['片名']\n",
    "\n",
    "# Import ChinaFilm Releases\n",
    "fp = '/content/drive/MyDrive/Github/Content/sources/ChinaFilm/records/contents_of_releases.json'\n",
    "df_cf_releases = pd.read_json(fp)"
   ]
  },
  {
   "cell_type": "code",
   "execution_count": null,
   "metadata": {
    "colab": {
     "base_uri": "https://localhost:8080/"
    },
    "executionInfo": {
     "elapsed": 11,
     "status": "ok",
     "timestamp": 1635908923018,
     "user": {
      "displayName": "Xu Vee",
      "photoUrl": "https://lh3.googleusercontent.com/a-/AOh14GjNTzTx2PmIBbypp7-eWIRwMo4-I9DLyTz70KE9_g=s64",
      "userId": "12955926615284697296"
     },
     "user_tz": 420
    },
    "id": "tekxJcG4Pcd_",
    "outputId": "58c42322-3c86-4c7c-aa9c-078f1c3113f7"
   },
   "outputs": [
    {
     "data": {
      "text/plain": [
       "Index(['电影名称', 'pubtitle', 'pubdate', 'publink', '上映日期', '导演', '主演', '国别/地区',\n",
       "       'img_remote'],\n",
       "      dtype='object')"
      ]
     },
     "execution_count": 44,
     "metadata": {},
     "output_type": "execute_result"
    }
   ],
   "source": [
    "df_rel_curr.columns"
   ]
  },
  {
   "cell_type": "code",
   "execution_count": null,
   "metadata": {
    "colab": {
     "base_uri": "https://localhost:8080/"
    },
    "executionInfo": {
     "elapsed": 9,
     "status": "ok",
     "timestamp": 1635908923019,
     "user": {
      "displayName": "Xu Vee",
      "photoUrl": "https://lh3.googleusercontent.com/a-/AOh14GjNTzTx2PmIBbypp7-eWIRwMo4-I9DLyTz70KE9_g=s64",
      "userId": "12955926615284697296"
     },
     "user_tz": 420
    },
    "id": "1CagQRu4Q9wm",
    "outputId": "51b0b7f5-d269-4177-ff9c-b186fda68c86"
   },
   "outputs": [
    {
     "data": {
      "text/plain": [
       "Index(['备案立项号', '片名', '备案单位', '编剧', '备案结果', '备案地', '梗概', '公示日期', '公示批次名称',\n",
       "       '备案详细页链接', '公示批次链接', '电影类别', '匹配片名'],\n",
       "      dtype='object')"
      ]
     },
     "execution_count": 45,
     "metadata": {},
     "output_type": "execute_result"
    }
   ],
   "source": [
    "df_reg.columns"
   ]
  },
  {
   "cell_type": "code",
   "execution_count": null,
   "metadata": {
    "colab": {
     "base_uri": "https://localhost:8080/"
    },
    "executionInfo": {
     "elapsed": 8,
     "status": "ok",
     "timestamp": 1635908923019,
     "user": {
      "displayName": "Xu Vee",
      "photoUrl": "https://lh3.googleusercontent.com/a-/AOh14GjNTzTx2PmIBbypp7-eWIRwMo4-I9DLyTz70KE9_g=s64",
      "userId": "12955926615284697296"
     },
     "user_tz": 420
    },
    "id": "L5U4Bkb1cFHR",
    "outputId": "176dd692-bf63-436f-a3ed-e106fb58c3d7"
   },
   "outputs": [
    {
     "data": {
      "text/plain": [
       "Index(['序号', '电影类别', '编码', '公映证号', '片名', '第一出品单位', '公示批次链接', '公示名称', '公示日期'], dtype='object')"
      ]
     },
     "execution_count": 46,
     "metadata": {},
     "output_type": "execute_result"
    }
   ],
   "source": [
    "df_cf_releases.columns"
   ]
  },
  {
   "cell_type": "markdown",
   "metadata": {
    "id": "zl8giDhYZjlG"
   },
   "source": [
    "#Interactively Find matches"
   ]
  },
  {
   "cell_type": "markdown",
   "metadata": {
    "id": "O-qxt3k1rIGs"
   },
   "source": [
    "## Match and Merge REL"
   ]
  },
  {
   "cell_type": "code",
   "execution_count": null,
   "metadata": {
    "colab": {
     "base_uri": "https://localhost:8080/"
    },
    "executionInfo": {
     "elapsed": 213,
     "status": "ok",
     "timestamp": 1635908924292,
     "user": {
      "displayName": "Xu Vee",
      "photoUrl": "https://lh3.googleusercontent.com/a-/AOh14GjNTzTx2PmIBbypp7-eWIRwMo4-I9DLyTz70KE9_g=s64",
      "userId": "12955926615284697296"
     },
     "user_tz": 420
    },
    "id": "ED5ExQgSzWWq",
    "outputId": "4bd16ecc-5116-47bb-dfb4-193054534d20"
   },
   "outputs": [
    {
     "name": "stderr",
     "output_type": "stream",
     "text": [
      "/usr/local/lib/python3.7/dist-packages/ipykernel_launcher.py:4: SettingWithCopyWarning: \n",
      "A value is trying to be set on a copy of a slice from a DataFrame.\n",
      "Try using .loc[row_indexer,col_indexer] = value instead\n",
      "\n",
      "See the caveats in the documentation: https://pandas.pydata.org/pandas-docs/stable/user_guide/indexing.html#returning-a-view-versus-a-copy\n",
      "  after removing the cwd from sys.path.\n"
     ]
    }
   ],
   "source": [
    "# Match df_rel_curr to df_cf_releases\n",
    "df_rel_curr['匹配片名'] = df_rel_curr['电影名称']\n",
    "df_matched_rel = df_cf_releases[df_cf_releases['片名'].isin(df_rel_curr['电影名称'])]\n",
    "df_matched_rel['电影名称'] = df_matched_rel['片名'].copy()\n",
    "idx_no_match = df_rel_curr.loc[~df_rel_curr['电影名称'].isin(df_matched_rel['片名'])].index\n",
    "df_rel_curr.loc[df_rel_curr.index.isin(idx_no_match), '匹配片名'] = None\n",
    "#df_rel_curr.loc[df_rel_curr['匹配片名'].isna(), :]"
   ]
  },
  {
   "cell_type": "code",
   "execution_count": null,
   "metadata": {
    "colab": {
     "base_uri": "https://localhost:8080/"
    },
    "executionInfo": {
     "elapsed": 195,
     "status": "ok",
     "timestamp": 1635908927542,
     "user": {
      "displayName": "Xu Vee",
      "photoUrl": "https://lh3.googleusercontent.com/a-/AOh14GjNTzTx2PmIBbypp7-eWIRwMo4-I9DLyTz70KE9_g=s64",
      "userId": "12955926615284697296"
     },
     "user_tz": 420
    },
    "id": "CkrPqJcFhMLS",
    "outputId": "c3776968-b778-4222-f34b-bcc64d18da50"
   },
   "outputs": [
    {
     "data": {
      "text/plain": [
       "array(['我的初恋⼗⼋岁', '扬名⽴万', '捞世界', '邓⼩平⼩道'], dtype=object)"
      ]
     },
     "execution_count": 48,
     "metadata": {},
     "output_type": "execute_result"
    }
   ],
   "source": [
    "df_rel_curr.loc[(df_rel_curr['匹配片名'].isna()) & \n",
    "                (df_rel_curr['国别/地区'] == '中国'), '电影名称'].to_numpy()"
   ]
  },
  {
   "cell_type": "code",
   "execution_count": null,
   "metadata": {
    "colab": {
     "base_uri": "https://localhost:8080/"
    },
    "executionInfo": {
     "elapsed": 202,
     "status": "ok",
     "timestamp": 1635908965016,
     "user": {
      "displayName": "Xu Vee",
      "photoUrl": "https://lh3.googleusercontent.com/a-/AOh14GjNTzTx2PmIBbypp7-eWIRwMo4-I9DLyTz70KE9_g=s64",
      "userId": "12955926615284697296"
     },
     "user_tz": 420
    },
    "id": "549-icPtZmo-",
    "outputId": "a34d9f21-b723-4217-a532-8b2136ee6954"
   },
   "outputs": [
    {
     "name": "stderr",
     "output_type": "stream",
     "text": [
      "/usr/local/lib/python3.7/dist-packages/pandas/core/frame.py:5042: SettingWithCopyWarning: \n",
      "A value is trying to be set on a copy of a slice from a DataFrame\n",
      "\n",
      "See the caveats in the documentation: https://pandas.pydata.org/pandas-docs/stable/user_guide/indexing.html#returning-a-view-versus-a-copy\n",
      "  errors=errors,\n"
     ]
    }
   ],
   "source": [
    "# RUN ONLY ONCE\n",
    "found_reg = [None, None, None, None] \n",
    "df_rel_curr.loc[(df_rel_curr['匹配片名'].isna()) & \n",
    "                (df_rel_curr['国别/地区'] == '中国'), '匹配片名'] = found_reg\n",
    "\n",
    "df_matched_rel = df_cf_releases[df_cf_releases['片名'].isin(df_rel_curr['匹配片名'])]\n",
    "df_matched_rel.rename(columns={'片名':'匹配片名'}, inplace=True)"
   ]
  },
  {
   "cell_type": "code",
   "execution_count": null,
   "metadata": {
    "colab": {
     "base_uri": "https://localhost:8080/"
    },
    "executionInfo": {
     "elapsed": 188,
     "status": "ok",
     "timestamp": 1635908970131,
     "user": {
      "displayName": "Xu Vee",
      "photoUrl": "https://lh3.googleusercontent.com/a-/AOh14GjNTzTx2PmIBbypp7-eWIRwMo4-I9DLyTz70KE9_g=s64",
      "userId": "12955926615284697296"
     },
     "user_tz": 420
    },
    "id": "uOxueqArgtXL",
    "outputId": "dab20674-0f48-4bf1-ce65-f4f8868a3f43"
   },
   "outputs": [
    {
     "data": {
      "text/plain": [
       "Index(['电影名称', 'pubtitle', 'pubdate', 'publink', '上映日期', '导演', '主演', '国别/地区',\n",
       "       'img_remote', '匹配片名'],\n",
       "      dtype='object')"
      ]
     },
     "execution_count": 50,
     "metadata": {},
     "output_type": "execute_result"
    }
   ],
   "source": [
    "df_rel_curr.columns"
   ]
  },
  {
   "cell_type": "code",
   "execution_count": null,
   "metadata": {
    "colab": {
     "base_uri": "https://localhost:8080/"
    },
    "executionInfo": {
     "elapsed": 198,
     "status": "ok",
     "timestamp": 1635908972773,
     "user": {
      "displayName": "Xu Vee",
      "photoUrl": "https://lh3.googleusercontent.com/a-/AOh14GjNTzTx2PmIBbypp7-eWIRwMo4-I9DLyTz70KE9_g=s64",
      "userId": "12955926615284697296"
     },
     "user_tz": 420
    },
    "id": "g-zzeO26rosn",
    "outputId": "648ca921-c8c1-45c7-e97b-5ace4337403a"
   },
   "outputs": [
    {
     "data": {
      "text/plain": [
       "Index(['序号', '电影类别', '编码', '公映证号', '匹配片名', '第一出品单位', '公示批次链接', '公示名称', '公示日期'], dtype='object')"
      ]
     },
     "execution_count": 51,
     "metadata": {},
     "output_type": "execute_result"
    }
   ],
   "source": [
    "df_matched_rel.columns"
   ]
  },
  {
   "cell_type": "code",
   "execution_count": null,
   "metadata": {
    "id": "FalsM0bZfUG-"
   },
   "outputs": [],
   "source": [
    "# Merge\n",
    "df_rel_curr = df_rel_curr.merge(df_matched_rel, on='匹配片名', how='left')"
   ]
  },
  {
   "cell_type": "code",
   "execution_count": null,
   "metadata": {
    "colab": {
     "base_uri": "https://localhost:8080/",
     "height": 1000
    },
    "executionInfo": {
     "elapsed": 194,
     "status": "ok",
     "timestamp": 1635908976193,
     "user": {
      "displayName": "Xu Vee",
      "photoUrl": "https://lh3.googleusercontent.com/a-/AOh14GjNTzTx2PmIBbypp7-eWIRwMo4-I9DLyTz70KE9_g=s64",
      "userId": "12955926615284697296"
     },
     "user_tz": 420
    },
    "id": "rK57pgN0w5wn",
    "outputId": "8988fb5b-efeb-44dc-df27-3c2be7d23664"
   },
   "outputs": [
    {
     "data": {
      "text/html": [
       "<div>\n",
       "<style scoped>\n",
       "    .dataframe tbody tr th:only-of-type {\n",
       "        vertical-align: middle;\n",
       "    }\n",
       "\n",
       "    .dataframe tbody tr th {\n",
       "        vertical-align: top;\n",
       "    }\n",
       "\n",
       "    .dataframe thead th {\n",
       "        text-align: right;\n",
       "    }\n",
       "</style>\n",
       "<table border=\"1\" class=\"dataframe\">\n",
       "  <thead>\n",
       "    <tr style=\"text-align: right;\">\n",
       "      <th></th>\n",
       "      <th>电影名称</th>\n",
       "      <th>pubtitle</th>\n",
       "      <th>pubdate</th>\n",
       "      <th>publink</th>\n",
       "      <th>上映日期</th>\n",
       "      <th>导演</th>\n",
       "      <th>主演</th>\n",
       "      <th>国别/地区</th>\n",
       "      <th>img_remote</th>\n",
       "      <th>匹配片名</th>\n",
       "      <th>序号</th>\n",
       "      <th>电影类别</th>\n",
       "      <th>编码</th>\n",
       "      <th>公映证号</th>\n",
       "      <th>第一出品单位</th>\n",
       "      <th>公示批次链接</th>\n",
       "      <th>公示名称</th>\n",
       "      <th>公示日期</th>\n",
       "    </tr>\n",
       "  </thead>\n",
       "  <tbody>\n",
       "    <tr>\n",
       "      <th>0</th>\n",
       "      <td>我的初恋⼗⼋岁</td>\n",
       "      <td>新片上映预报</td>\n",
       "      <td>2021-11-01</td>\n",
       "      <td>https://www.zgdypw.cn/sc/scxx/202111/01/t20211...</td>\n",
       "      <td>2021-11-11</td>\n",
       "      <td>王择谚</td>\n",
       "      <td>林⾠涵、曹峻祥、翁虹</td>\n",
       "      <td>中国</td>\n",
       "      <td>https://www.zgdypw.cn/sc/scxx/202111/01/W02021...</td>\n",
       "      <td>None</td>\n",
       "      <td>NaN</td>\n",
       "      <td>NaN</td>\n",
       "      <td>NaN</td>\n",
       "      <td>NaN</td>\n",
       "      <td>NaN</td>\n",
       "      <td>NaN</td>\n",
       "      <td>NaN</td>\n",
       "      <td>NaN</td>\n",
       "    </tr>\n",
       "    <tr>\n",
       "      <th>1</th>\n",
       "      <td>扬名⽴万</td>\n",
       "      <td>新片上映预报</td>\n",
       "      <td>2021-11-01</td>\n",
       "      <td>https://www.zgdypw.cn/sc/scxx/202111/01/t20211...</td>\n",
       "      <td>2021-11-11</td>\n",
       "      <td>刘循⼦墨</td>\n",
       "      <td>尹正、邓家佳、喻恩泰</td>\n",
       "      <td>中国</td>\n",
       "      <td>https://www.zgdypw.cn/sc/scxx/202111/01/W02021...</td>\n",
       "      <td>None</td>\n",
       "      <td>NaN</td>\n",
       "      <td>NaN</td>\n",
       "      <td>NaN</td>\n",
       "      <td>NaN</td>\n",
       "      <td>NaN</td>\n",
       "      <td>NaN</td>\n",
       "      <td>NaN</td>\n",
       "      <td>NaN</td>\n",
       "    </tr>\n",
       "    <tr>\n",
       "      <th>2</th>\n",
       "      <td>指引</td>\n",
       "      <td>新片上映预报</td>\n",
       "      <td>2021-11-01</td>\n",
       "      <td>https://www.zgdypw.cn/sc/scxx/202111/01/t20211...</td>\n",
       "      <td>2021-11-11</td>\n",
       "      <td>苏纳⼭</td>\n",
       "      <td>孙佳、宋琦、陈安</td>\n",
       "      <td>中国</td>\n",
       "      <td>https://www.zgdypw.cn/sc/scxx/202111/01/W02021...</td>\n",
       "      <td>指引</td>\n",
       "      <td>40.0</td>\n",
       "      <td>国产故事片</td>\n",
       "      <td>1102272020</td>\n",
       "      <td>204</td>\n",
       "      <td>上海师焉文化传媒有限公司</td>\n",
       "      <td>http://www.chinafilm.gov.cn/chinafilm/contents...</td>\n",
       "      <td>2021年电影公映许可证发放公示（国产故事片第六批）</td>\n",
       "      <td>2021-07-13</td>\n",
       "    </tr>\n",
       "    <tr>\n",
       "      <th>3</th>\n",
       "      <td>八拍</td>\n",
       "      <td>新片上映预报</td>\n",
       "      <td>2021-11-01</td>\n",
       "      <td>https://www.zgdypw.cn/sc/scxx/202111/01/t20211...</td>\n",
       "      <td>2021-11-12</td>\n",
       "      <td>钟康</td>\n",
       "      <td>许桦、余健波、申旭阔</td>\n",
       "      <td>中国</td>\n",
       "      <td>https://www.zgdypw.cn/sc/scxx/202111/01/W02021...</td>\n",
       "      <td>八拍</td>\n",
       "      <td>26.0</td>\n",
       "      <td>国产故事片</td>\n",
       "      <td>1101582020</td>\n",
       "      <td>135</td>\n",
       "      <td>泰然众合影业有限公司</td>\n",
       "      <td>http://www.chinafilm.gov.cn/chinafilm/contents...</td>\n",
       "      <td>2020年电影公映许可证发放公示（国产故事片第二批）</td>\n",
       "      <td>2020-09-02</td>\n",
       "    </tr>\n",
       "    <tr>\n",
       "      <th>4</th>\n",
       "      <td>捞世界</td>\n",
       "      <td>新片上映预报</td>\n",
       "      <td>2021-11-01</td>\n",
       "      <td>https://www.zgdypw.cn/sc/scxx/202111/01/t20211...</td>\n",
       "      <td>2021-11-26</td>\n",
       "      <td>谢晓东</td>\n",
       "      <td>黄才伦、冯秦川、胡铂</td>\n",
       "      <td>中国</td>\n",
       "      <td>https://www.zgdypw.cn/sc/scxx/202111/01/W02021...</td>\n",
       "      <td>None</td>\n",
       "      <td>NaN</td>\n",
       "      <td>NaN</td>\n",
       "      <td>NaN</td>\n",
       "      <td>NaN</td>\n",
       "      <td>NaN</td>\n",
       "      <td>NaN</td>\n",
       "      <td>NaN</td>\n",
       "      <td>NaN</td>\n",
       "    </tr>\n",
       "    <tr>\n",
       "      <th>5</th>\n",
       "      <td>邓⼩平⼩道</td>\n",
       "      <td>新片上映预报</td>\n",
       "      <td>2021-11-01</td>\n",
       "      <td>https://www.zgdypw.cn/sc/scxx/202111/01/t20211...</td>\n",
       "      <td>2022-03-11</td>\n",
       "      <td>雷献⽲</td>\n",
       "      <td>卢奇、于慧、赵恒煊</td>\n",
       "      <td>中国</td>\n",
       "      <td>https://www.zgdypw.cn/sc/scxx/202111/01/W02021...</td>\n",
       "      <td>None</td>\n",
       "      <td>NaN</td>\n",
       "      <td>NaN</td>\n",
       "      <td>NaN</td>\n",
       "      <td>NaN</td>\n",
       "      <td>NaN</td>\n",
       "      <td>NaN</td>\n",
       "      <td>NaN</td>\n",
       "      <td>NaN</td>\n",
       "    </tr>\n",
       "  </tbody>\n",
       "</table>\n",
       "</div>"
      ],
      "text/plain": [
       "      电影名称 pubtitle  ...                        公示名称        公示日期\n",
       "0  我的初恋⼗⼋岁   新片上映预报  ...                         NaN         NaN\n",
       "1     扬名⽴万   新片上映预报  ...                         NaN         NaN\n",
       "2       指引   新片上映预报  ...  2021年电影公映许可证发放公示（国产故事片第六批）  2021-07-13\n",
       "3       八拍   新片上映预报  ...  2020年电影公映许可证发放公示（国产故事片第二批）  2020-09-02\n",
       "4      捞世界   新片上映预报  ...                         NaN         NaN\n",
       "5    邓⼩平⼩道   新片上映预报  ...                         NaN         NaN\n",
       "\n",
       "[6 rows x 18 columns]"
      ]
     },
     "execution_count": 53,
     "metadata": {},
     "output_type": "execute_result"
    }
   ],
   "source": [
    "df_rel_curr"
   ]
  },
  {
   "cell_type": "markdown",
   "metadata": {
    "id": "HVdu5o0irP72"
   },
   "source": [
    "## Match and Merge Rel Reg"
   ]
  },
  {
   "cell_type": "code",
   "execution_count": null,
   "metadata": {
    "colab": {
     "base_uri": "https://localhost:8080/",
     "height": 172
    },
    "executionInfo": {
     "elapsed": 222,
     "status": "ok",
     "timestamp": 1635908982424,
     "user": {
      "displayName": "Xu Vee",
      "photoUrl": "https://lh3.googleusercontent.com/a-/AOh14GjNTzTx2PmIBbypp7-eWIRwMo4-I9DLyTz70KE9_g=s64",
      "userId": "12955926615284697296"
     },
     "user_tz": 420
    },
    "id": "umKmzXD8h-iO",
    "outputId": "bc2bab4c-d5e8-4647-c358-27bfd6d2509e"
   },
   "outputs": [
    {
     "data": {
      "text/html": [
       "<div>\n",
       "<style scoped>\n",
       "    .dataframe tbody tr th:only-of-type {\n",
       "        vertical-align: middle;\n",
       "    }\n",
       "\n",
       "    .dataframe tbody tr th {\n",
       "        vertical-align: top;\n",
       "    }\n",
       "\n",
       "    .dataframe thead th {\n",
       "        text-align: right;\n",
       "    }\n",
       "</style>\n",
       "<table border=\"1\" class=\"dataframe\">\n",
       "  <thead>\n",
       "    <tr style=\"text-align: right;\">\n",
       "      <th></th>\n",
       "      <th>电影名称</th>\n",
       "      <th>pubtitle</th>\n",
       "      <th>pubdate</th>\n",
       "      <th>publink</th>\n",
       "      <th>上映日期</th>\n",
       "      <th>导演</th>\n",
       "      <th>主演</th>\n",
       "    </tr>\n",
       "  </thead>\n",
       "  <tbody>\n",
       "    <tr>\n",
       "      <th>0</th>\n",
       "      <td>我的初恋⼗⼋岁</td>\n",
       "      <td>新片上映预报</td>\n",
       "      <td>2021-11-01</td>\n",
       "      <td>https://www.zgdypw.cn/sc/scxx/202111/01/t20211...</td>\n",
       "      <td>2021-11-11</td>\n",
       "      <td>王择谚</td>\n",
       "      <td>林⾠涵、曹峻祥、翁虹</td>\n",
       "    </tr>\n",
       "    <tr>\n",
       "      <th>1</th>\n",
       "      <td>扬名⽴万</td>\n",
       "      <td>新片上映预报</td>\n",
       "      <td>2021-11-01</td>\n",
       "      <td>https://www.zgdypw.cn/sc/scxx/202111/01/t20211...</td>\n",
       "      <td>2021-11-11</td>\n",
       "      <td>刘循⼦墨</td>\n",
       "      <td>尹正、邓家佳、喻恩泰</td>\n",
       "    </tr>\n",
       "    <tr>\n",
       "      <th>3</th>\n",
       "      <td>八拍</td>\n",
       "      <td>新片上映预报</td>\n",
       "      <td>2021-11-01</td>\n",
       "      <td>https://www.zgdypw.cn/sc/scxx/202111/01/t20211...</td>\n",
       "      <td>2021-11-12</td>\n",
       "      <td>钟康</td>\n",
       "      <td>许桦、余健波、申旭阔</td>\n",
       "    </tr>\n",
       "    <tr>\n",
       "      <th>5</th>\n",
       "      <td>邓⼩平⼩道</td>\n",
       "      <td>新片上映预报</td>\n",
       "      <td>2021-11-01</td>\n",
       "      <td>https://www.zgdypw.cn/sc/scxx/202111/01/t20211...</td>\n",
       "      <td>2022-03-11</td>\n",
       "      <td>雷献⽲</td>\n",
       "      <td>卢奇、于慧、赵恒煊</td>\n",
       "    </tr>\n",
       "  </tbody>\n",
       "</table>\n",
       "</div>"
      ],
      "text/plain": [
       "      电影名称 pubtitle    pubdate  ...       上映日期    导演          主演\n",
       "0  我的初恋⼗⼋岁   新片上映预报 2021-11-01  ... 2021-11-11   王择谚  林⾠涵、曹峻祥、翁虹\n",
       "1     扬名⽴万   新片上映预报 2021-11-01  ... 2021-11-11  刘循⼦墨  尹正、邓家佳、喻恩泰\n",
       "3       八拍   新片上映预报 2021-11-01  ... 2021-11-12    钟康  许桦、余健波、申旭阔\n",
       "5    邓⼩平⼩道   新片上映预报 2021-11-01  ... 2022-03-11   雷献⽲   卢奇、于慧、赵恒煊\n",
       "\n",
       "[4 rows x 7 columns]"
      ]
     },
     "execution_count": 54,
     "metadata": {},
     "output_type": "execute_result"
    }
   ],
   "source": [
    "# Match df_rel_curr to df_reg\n",
    "df_rel_curr['匹配片名'] = df_rel_curr['电影名称']\n",
    "df_matched = \\\n",
    "  df_reg[df_reg['匹配片名'].isin(df_rel_curr['匹配片名'].to_numpy())]\n",
    "idx_no_match = df_rel_curr.loc[~df_rel_curr['匹配片名'].isin(\n",
    "    df_matched['片名'].to_numpy())].index\n",
    "df_rel_curr.loc[df_rel_curr.index.isin(idx_no_match), '匹配片名'] = None\n",
    "df_rel_curr.loc[(df_rel_curr['匹配片名'].isna()) & \n",
    "    (df_rel_curr['国别/地区'] == '中国'), \n",
    "    ['电影名称', 'pubtitle', 'pubdate', 'publink', '上映日期', '导演', '主演']]"
   ]
  },
  {
   "cell_type": "code",
   "execution_count": null,
   "metadata": {
    "colab": {
     "base_uri": "https://localhost:8080/"
    },
    "executionInfo": {
     "elapsed": 324,
     "status": "ok",
     "timestamp": 1635908994052,
     "user": {
      "displayName": "Xu Vee",
      "photoUrl": "https://lh3.googleusercontent.com/a-/AOh14GjNTzTx2PmIBbypp7-eWIRwMo4-I9DLyTz70KE9_g=s64",
      "userId": "12955926615284697296"
     },
     "user_tz": 420
    },
    "id": "hueGduLResur",
    "outputId": "a4a3992d-a997-41e5-ddcb-d3d74c188eb8"
   },
   "outputs": [
    {
     "data": {
      "text/plain": [
       "array(['我的初恋⼗⼋岁', '扬名⽴万', '八拍', '邓⼩平⼩道'], dtype=object)"
      ]
     },
     "execution_count": 55,
     "metadata": {},
     "output_type": "execute_result"
    }
   ],
   "source": [
    "df_rel_curr.loc[(df_rel_curr['匹配片名'].isna()) & \n",
    "    (df_rel_curr['国别/地区'] == '中国'), '电影名称'].to_numpy()"
   ]
  },
  {
   "cell_type": "code",
   "execution_count": null,
   "metadata": {
    "id": "puN3ft_b_zhA"
   },
   "outputs": [],
   "source": [
    "# assign manually found titles to df_curr_releases\n",
    "found_reg = ['我的初恋十八岁1', '一部佳作的诞生', '舞梦者', '邓小平小道']\n",
    "df_rel_curr.loc[(df_rel_curr['匹配片名'].isna()) & \n",
    "    (df_rel_curr['国别/地区'] == '中国'), '匹配片名'] = found_reg"
   ]
  },
  {
   "cell_type": "code",
   "execution_count": null,
   "metadata": {
    "id": "T1nn4JQliCjW"
   },
   "outputs": [],
   "source": [
    "# Merge\n",
    "df_matched = df_reg.loc[df_reg['匹配片名'].isin(df_rel_curr['匹配片名'].to_numpy()),\n",
    "                        ['匹配片名', '编剧', '梗概', '公示日期', \n",
    "                         '备案单位', '备案结果', '备案立项号']\n",
    "                       ]\n",
    "df_matched.rename(columns={'公示日期':'备案公示日期'}, inplace=True)\n",
    "df = df_rel_curr.merge(df_matched, on='匹配片名', how='left')\n",
    "df['备案公示日期'] = df['备案公示日期'].apply(\n",
    "    lambda x: pd.to_datetime(x, infer_datetime_format=True))\n",
    "df['备案至今'] = dt_pubdate_latest - df['备案公示日期']"
   ]
  },
  {
   "cell_type": "markdown",
   "metadata": {
    "id": "nkbKuKsmeH6i"
   },
   "source": [
    "##Remove Duplicates (if any)"
   ]
  },
  {
   "cell_type": "code",
   "execution_count": null,
   "metadata": {
    "id": "jExKb1Xhdlnq"
   },
   "outputs": [],
   "source": [
    "HTML(df.to_html())"
   ]
  },
  {
   "cell_type": "code",
   "execution_count": null,
   "metadata": {
    "id": "RtSyNYkTeO3m"
   },
   "outputs": [],
   "source": [
    "# RUN ONCE\n",
    "idx_to_remove = []\n",
    "df = df[~df.index.isin(idx_to_remove)].reset_index(drop=True)"
   ]
  },
  {
   "cell_type": "code",
   "execution_count": null,
   "metadata": {
    "id": "PxUl3jvP0pkM"
   },
   "outputs": [],
   "source": [
    "df"
   ]
  },
  {
   "cell_type": "markdown",
   "metadata": {
    "id": "EzGrBBlfw5On"
   },
   "source": [
    "## Search for foreign film synopsis"
   ]
  },
  {
   "cell_type": "code",
   "execution_count": null,
   "metadata": {
    "id": "Fik2dM7vs1j9"
   },
   "outputs": [],
   "source": [
    "# Load Libraries Local\n",
    "path_Baike = '/content/drive/MyDrive/Github/Content/sources/baike'\n",
    "os.chdir(path_Baike)\n",
    "\n",
    "#%load_ext autoreload\n",
    "%reload_ext autoreload\n",
    "from Baike import Baike\n",
    "baike = Baike()"
   ]
  },
  {
   "cell_type": "code",
   "execution_count": null,
   "metadata": {
    "colab": {
     "base_uri": "https://localhost:8080/",
     "height": 53
    },
    "executionInfo": {
     "elapsed": 3892,
     "status": "ok",
     "timestamp": 1635909190516,
     "user": {
      "displayName": "Xu Vee",
      "photoUrl": "https://lh3.googleusercontent.com/a-/AOh14GjNTzTx2PmIBbypp7-eWIRwMo4-I9DLyTz70KE9_g=s64",
      "userId": "12955926615284697296"
     },
     "user_tz": 420
    },
    "id": "hjvBN4oys91J",
    "outputId": "0ba6d6f6-f4de-42c9-bea8-23d688256a38"
   },
   "outputs": [
    {
     "data": {
      "application/vnd.google.colaboratory.intrinsic+json": {
       "type": "string"
      },
      "text/plain": [
       "'《扬名立万》是由韩寒监制，刘循子墨执导，陈思编剧，尹正、邓家佳、喻恩泰、杨皓宇、张本煜、柯达领衔主演，陈明昊、秦霄贤、邓恩熙、余皑磊特别出演的悬疑喜剧电影。该片讲述了一群电影人为将一起惊天大案拍成电影而齐聚一堂，创意层出不穷之时，却不曾想“凶手”也来到了现场的故事。该片于2021年11月11日在中国大陆上映。'"
      ]
     },
     "execution_count": 61,
     "metadata": {},
     "output_type": "execute_result"
    }
   ],
   "source": [
    "baike.search_for_content('扬名⽴万')"
   ]
  },
  {
   "cell_type": "code",
   "execution_count": null,
   "metadata": {
    "id": "n7UId8HdxfD3"
   },
   "outputs": [],
   "source": [
    "synpo_007 = baike.search_for_content('007：无暇赴死')"
   ]
  },
  {
   "cell_type": "code",
   "execution_count": null,
   "metadata": {
    "id": "6s_ESVh1w9zy"
   },
   "outputs": [],
   "source": [
    "df.loc[df['电影名称'] == '入殓师', '梗概'] = synop_passing\n",
    "df.loc[df['电影名称'] == '007：无暇赴死', '梗概'] = synpo_007"
   ]
  },
  {
   "cell_type": "markdown",
   "metadata": {
    "id": "HFEmA8-ZqyqO"
   },
   "source": [
    "## SEARCH TOOLS"
   ]
  },
  {
   "cell_type": "code",
   "execution_count": null,
   "metadata": {
    "colab": {
     "base_uri": "https://localhost:8080/",
     "height": 49
    },
    "executionInfo": {
     "elapsed": 246,
     "status": "ok",
     "timestamp": 1635909275933,
     "user": {
      "displayName": "Xu Vee",
      "photoUrl": "https://lh3.googleusercontent.com/a-/AOh14GjNTzTx2PmIBbypp7-eWIRwMo4-I9DLyTz70KE9_g=s64",
      "userId": "12955926615284697296"
     },
     "user_tz": 420
    },
    "id": "Dr6oJxXhsaCP",
    "outputId": "80e04e8e-41c5-47ce-aaf7-c8ed5f84f545"
   },
   "outputs": [
    {
     "data": {
      "text/html": [
       "<div>\n",
       "<style scoped>\n",
       "    .dataframe tbody tr th:only-of-type {\n",
       "        vertical-align: middle;\n",
       "    }\n",
       "\n",
       "    .dataframe tbody tr th {\n",
       "        vertical-align: top;\n",
       "    }\n",
       "\n",
       "    .dataframe thead th {\n",
       "        text-align: right;\n",
       "    }\n",
       "</style>\n",
       "<table border=\"1\" class=\"dataframe\">\n",
       "  <thead>\n",
       "    <tr style=\"text-align: right;\">\n",
       "      <th></th>\n",
       "      <th>序号</th>\n",
       "      <th>电影类别</th>\n",
       "      <th>编码</th>\n",
       "      <th>公映证号</th>\n",
       "      <th>片名</th>\n",
       "      <th>第一出品单位</th>\n",
       "      <th>公示批次链接</th>\n",
       "      <th>公示名称</th>\n",
       "      <th>公示日期</th>\n",
       "    </tr>\n",
       "  </thead>\n",
       "  <tbody>\n",
       "  </tbody>\n",
       "</table>\n",
       "</div>"
      ],
      "text/plain": [
       "Empty DataFrame\n",
       "Columns: [序号, 电影类别, 编码, 公映证号, 片名, 第一出品单位, 公示批次链接, 公示名称, 公示日期]\n",
       "Index: []"
      ]
     },
     "execution_count": 64,
     "metadata": {},
     "output_type": "execute_result"
    }
   ],
   "source": [
    "df_cf_releases[df_cf_releases['片名'].str.contains('一部佳作的诞生')]"
   ]
  },
  {
   "cell_type": "code",
   "execution_count": null,
   "metadata": {
    "id": "JDJmeIuRPQmb"
   },
   "outputs": [],
   "source": [
    "df_reg.loc[df_reg['备案单位'].fillna('').str.contains('江西电影'), \n",
    "           ['片名', '备案立项号', '备案单位', '编剧', '梗概', '公示日期']][:50]"
   ]
  },
  {
   "cell_type": "code",
   "execution_count": null,
   "metadata": {
    "colab": {
     "base_uri": "https://localhost:8080/",
     "height": 49
    },
    "executionInfo": {
     "elapsed": 247,
     "status": "ok",
     "timestamp": 1635909564870,
     "user": {
      "displayName": "Xu Vee",
      "photoUrl": "https://lh3.googleusercontent.com/a-/AOh14GjNTzTx2PmIBbypp7-eWIRwMo4-I9DLyTz70KE9_g=s64",
      "userId": "12955926615284697296"
     },
     "user_tz": 420
    },
    "id": "Kt80_fXyBKnK",
    "outputId": "98e978bc-1a07-459a-9863-e6cffbd70359"
   },
   "outputs": [
    {
     "data": {
      "text/html": [
       "<div>\n",
       "<style scoped>\n",
       "    .dataframe tbody tr th:only-of-type {\n",
       "        vertical-align: middle;\n",
       "    }\n",
       "\n",
       "    .dataframe tbody tr th {\n",
       "        vertical-align: top;\n",
       "    }\n",
       "\n",
       "    .dataframe thead th {\n",
       "        text-align: right;\n",
       "    }\n",
       "</style>\n",
       "<table border=\"1\" class=\"dataframe\">\n",
       "  <thead>\n",
       "    <tr style=\"text-align: right;\">\n",
       "      <th></th>\n",
       "      <th>备案立项号</th>\n",
       "      <th>片名</th>\n",
       "      <th>备案单位</th>\n",
       "      <th>编剧</th>\n",
       "      <th>备案结果</th>\n",
       "      <th>备案地</th>\n",
       "      <th>梗概</th>\n",
       "      <th>公示日期</th>\n",
       "      <th>公示批次名称</th>\n",
       "      <th>备案详细页链接</th>\n",
       "      <th>公示批次链接</th>\n",
       "      <th>电影类别</th>\n",
       "      <th>匹配片名</th>\n",
       "    </tr>\n",
       "  </thead>\n",
       "  <tbody>\n",
       "  </tbody>\n",
       "</table>\n",
       "</div>"
      ],
      "text/plain": [
       "Empty DataFrame\n",
       "Columns: [备案立项号, 片名, 备案单位, 编剧, 备案结果, 备案地, 梗概, 公示日期, 公示批次名称, 备案详细页链接, 公示批次链接, 电影类别, 匹配片名]\n",
       "Index: []"
      ]
     },
     "execution_count": 67,
     "metadata": {},
     "output_type": "execute_result"
    }
   ],
   "source": [
    "df_reg.loc[df_reg['片名'].fillna('').str.contains('八拍')]#.loc[4268,'梗概']"
   ]
  },
  {
   "cell_type": "code",
   "execution_count": null,
   "metadata": {
    "colab": {
     "base_uri": "https://localhost:8080/",
     "height": 49
    },
    "executionInfo": {
     "elapsed": 354,
     "status": "ok",
     "timestamp": 1635587096120,
     "user": {
      "displayName": "Xu Vee",
      "photoUrl": "https://lh3.googleusercontent.com/a-/AOh14GjNTzTx2PmIBbypp7-eWIRwMo4-I9DLyTz70KE9_g=s64",
      "userId": "12955926615284697296"
     },
     "user_tz": 420
    },
    "id": "RKpsCuSMLBYw",
    "outputId": "2696742f-c336-45f9-a835-f169ff4a73bd"
   },
   "outputs": [
    {
     "data": {
      "text/html": [
       "<div>\n",
       "<style scoped>\n",
       "    .dataframe tbody tr th:only-of-type {\n",
       "        vertical-align: middle;\n",
       "    }\n",
       "\n",
       "    .dataframe tbody tr th {\n",
       "        vertical-align: top;\n",
       "    }\n",
       "\n",
       "    .dataframe thead th {\n",
       "        text-align: right;\n",
       "    }\n",
       "</style>\n",
       "<table border=\"1\" class=\"dataframe\">\n",
       "  <thead>\n",
       "    <tr style=\"text-align: right;\">\n",
       "      <th></th>\n",
       "      <th>片名</th>\n",
       "      <th>备案单位</th>\n",
       "      <th>编剧</th>\n",
       "      <th>梗概</th>\n",
       "      <th>备案立项号</th>\n",
       "    </tr>\n",
       "  </thead>\n",
       "  <tbody>\n",
       "  </tbody>\n",
       "</table>\n",
       "</div>"
      ],
      "text/plain": [
       "Empty DataFrame\n",
       "Columns: [片名, 备案单位, 编剧, 梗概, 备案立项号]\n",
       "Index: []"
      ]
     },
     "execution_count": 92,
     "metadata": {},
     "output_type": "execute_result"
    }
   ],
   "source": [
    "df_reg.loc[df_reg['编剧'].fillna('').str.contains('潘奕霖'), \n",
    "           ['片名', '备案单位', '编剧', '梗概', '备案立项号']] "
   ]
  },
  {
   "cell_type": "code",
   "execution_count": null,
   "metadata": {
    "colab": {
     "base_uri": "https://localhost:8080/",
     "height": 80
    },
    "executionInfo": {
     "elapsed": 309,
     "status": "ok",
     "timestamp": 1635909761047,
     "user": {
      "displayName": "Xu Vee",
      "photoUrl": "https://lh3.googleusercontent.com/a-/AOh14GjNTzTx2PmIBbypp7-eWIRwMo4-I9DLyTz70KE9_g=s64",
      "userId": "12955926615284697296"
     },
     "user_tz": 420
    },
    "id": "kSZkHlx6xu2U",
    "outputId": "b92810cd-ebe8-4cb2-9096-c6c930319b3c"
   },
   "outputs": [
    {
     "data": {
      "text/html": [
       "<div>\n",
       "<style scoped>\n",
       "    .dataframe tbody tr th:only-of-type {\n",
       "        vertical-align: middle;\n",
       "    }\n",
       "\n",
       "    .dataframe tbody tr th {\n",
       "        vertical-align: top;\n",
       "    }\n",
       "\n",
       "    .dataframe thead th {\n",
       "        text-align: right;\n",
       "    }\n",
       "</style>\n",
       "<table border=\"1\" class=\"dataframe\">\n",
       "  <thead>\n",
       "    <tr style=\"text-align: right;\">\n",
       "      <th></th>\n",
       "      <th>片名</th>\n",
       "      <th>备案单位</th>\n",
       "      <th>编剧</th>\n",
       "      <th>梗概</th>\n",
       "      <th>备案立项号</th>\n",
       "    </tr>\n",
       "  </thead>\n",
       "  <tbody>\n",
       "    <tr>\n",
       "      <th>10449</th>\n",
       "      <td>舞梦者</td>\n",
       "      <td>泰然众合影业有限公司</td>\n",
       "      <td>佟欣、钟康康</td>\n",
       "      <td>刘宪为了机会和梦想远走家乡，但生活用现实将刘宪梦想的火苗渐渐熄灭。几近绝望之时刘宪终于迎来了...</td>\n",
       "      <td>影剧备字[2018]第2870号</td>\n",
       "    </tr>\n",
       "  </tbody>\n",
       "</table>\n",
       "</div>"
      ],
      "text/plain": [
       "        片名  ...             备案立项号\n",
       "10449  舞梦者  ...  影剧备字[2018]第2870号\n",
       "\n",
       "[1 rows x 5 columns]"
      ]
     },
     "execution_count": 69,
     "metadata": {},
     "output_type": "execute_result"
    }
   ],
   "source": [
    "df_reg.loc[df_reg['梗概'].fillna('').str.contains('刘宪'), \n",
    "           ['片名', '备案单位', '编剧', '梗概', '备案立项号']] "
   ]
  },
  {
   "cell_type": "code",
   "execution_count": null,
   "metadata": {
    "id": "d-40ga2-0AVS"
   },
   "outputs": [],
   "source": [
    "df_reg.loc[df_reg['片名'].fillna('').str.contains('街舞爱好者'), \n",
    "           ['片名', '备案单位', '编剧', '梗概', '备案立项号']] "
   ]
  },
  {
   "cell_type": "code",
   "execution_count": null,
   "metadata": {
    "id": "swJaQ0JMkz2G"
   },
   "outputs": [],
   "source": [
    "df_reg.loc[df_reg['电影类别'].fillna('').str.contains('纪录'), \n",
    "           ['片名', '备案单位', '编剧', '梗概', '备案立项号']] "
   ]
  },
  {
   "cell_type": "code",
   "execution_count": null,
   "metadata": {
    "colab": {
     "base_uri": "https://localhost:8080/"
    },
    "executionInfo": {
     "elapsed": 148,
     "status": "ok",
     "timestamp": 1635616123626,
     "user": {
      "displayName": "Xu Vee",
      "photoUrl": "https://lh3.googleusercontent.com/a-/AOh14GjNTzTx2PmIBbypp7-eWIRwMo4-I9DLyTz70KE9_g=s64",
      "userId": "12955926615284697296"
     },
     "user_tz": 420
    },
    "id": "XCGcrWXPaSdS",
    "outputId": "01a8a842-cae2-411d-bf6f-df4a406ee437"
   },
   "outputs": [
    {
     "data": {
      "text/plain": [
       "(16, 16)"
      ]
     },
     "execution_count": 70,
     "metadata": {},
     "output_type": "execute_result"
    }
   ],
   "source": [
    "df.shape"
   ]
  },
  {
   "cell_type": "code",
   "execution_count": null,
   "metadata": {
    "id": "HojWojrpwj5o"
   },
   "outputs": [],
   "source": [
    "df['电影名称']"
   ]
  },
  {
   "cell_type": "code",
   "execution_count": null,
   "metadata": {
    "id": "Y5XFJvgSwboV"
   },
   "outputs": [],
   "source": []
  },
  {
   "cell_type": "markdown",
   "metadata": {
    "id": "fDnZnjapb8gV"
   },
   "source": [
    "#Run Models for prediction"
   ]
  },
  {
   "cell_type": "markdown",
   "metadata": {
    "id": "2_Zu_QOuVPSQ"
   },
   "source": [
    "## Predict Genre"
   ]
  },
  {
   "cell_type": "code",
   "execution_count": null,
   "metadata": {
    "id": "rYcGAE77VPSQ"
   },
   "outputs": [],
   "source": [
    "# Define Labels\n",
    "label2id_genre= {'传奇': 0, '传记': 1, '其它': 2, '军旅': 3, '农村': 4, '宫廷': 5,  \n",
    "                  '武打': 6, '涉案': 7, '神话': 8, '科幻': 9, '都市': 10, '青少': 11,\n",
    "                  '革命': 12}\n",
    "id2label_genre = {}\n",
    "for k, v in label2id_genre.items(): id2label_genre[v] = k"
   ]
  },
  {
   "cell_type": "code",
   "execution_count": null,
   "metadata": {
    "id": "vMOBTIvnVPSQ"
   },
   "outputs": [],
   "source": [
    "%%capture\n",
    "# Genre Classifier\n",
    "N_LABELS = len(id2label_genre)\n",
    "ID2LABEL = id2label_genre\n",
    "LABEL2ID = label2id_genre\n",
    "\n",
    "from transformers import BertTokenizer, BertForSequenceClassification\n",
    "import torch\n",
    "############\n",
    "model_name = '/content/drive/MyDrive/Github/Content/tools/models/chinese-bert-wwm-classification-NRTAgenre'\n",
    "############\n",
    "if torch.cuda.device_count() > 0:\n",
    "  device = 'cuda:' + str(torch.cuda.current_device())\n",
    "else:\n",
    "  device = 'cpu'\n",
    "\n",
    "tokenizer = BertTokenizer.from_pretrained(model_name)\n",
    "model = BertForSequenceClassification.from_pretrained(\n",
    "  model_name,\n",
    "  num_labels=N_LABELS,\n",
    "  problem_type=\"multi_label_classification\",\n",
    "  id2label=ID2LABEL,\n",
    "  label2id=LABEL2ID,  \n",
    ").to(device)\n",
    "model.eval() # set model to eval mode for faster prediction"
   ]
  },
  {
   "cell_type": "code",
   "execution_count": null,
   "metadata": {
    "id": "mzvuFMFuVPSR"
   },
   "outputs": [],
   "source": [
    "batch_size = 8\n",
    "i = 0\n",
    "ls = df['梗概'].fillna('').tolist()\n",
    "softmax = torch.nn.Softmax(dim=-1)\n",
    "L = df.shape[0]\n",
    "test_predictions = []\n",
    "\n",
    "while i < L:\n",
    "  batch_test = tokenizer(ls[i:i+batch_size],\n",
    "                           padding=True,\n",
    "                           max_length=512, \n",
    "                           truncation=True, \n",
    "                           return_tensors='pt')\n",
    "  batch_test.to(device)\n",
    "  batch_outputs = model(**batch_test)\n",
    "  batch_logtis = batch_outputs.logits\n",
    "  batch_softmax = softmax(batch_logtis)\n",
    "  batch_results = torch.argmax(batch_softmax, dim=1).cpu().numpy()\n",
    "  test_predictions.extend(list(batch_results))\n",
    "  i += batch_size\n",
    "\n",
    "df['类型'] = test_predictions\n",
    "df['类型'] = df['类型'].apply(lambda x: id2label_genre[x])"
   ]
  },
  {
   "cell_type": "markdown",
   "metadata": {
    "id": "4u4LyUR1dtuq"
   },
   "source": [
    "## Predict Time"
   ]
  },
  {
   "cell_type": "code",
   "execution_count": null,
   "metadata": {
    "id": "ybQynauSdt-_"
   },
   "outputs": [],
   "source": [
    "# Define Labels\n",
    "label2id_time = {'古代': 0, '当代': 1, '现代': 2, '近代': 3}\n",
    "id2label_time = {}\n",
    "for k, v in label2id_time.items(): id2label_time[v] = k"
   ]
  },
  {
   "cell_type": "code",
   "execution_count": null,
   "metadata": {
    "id": "BU1nxQ_ReK2U"
   },
   "outputs": [],
   "source": [
    "%%capture\n",
    "# Time Classifier\n",
    "\n",
    "N_LABELS = len(id2label_time)\n",
    "ID2LABEL = id2label_time\n",
    "LABEL2ID = label2id_time\n",
    "\n",
    "from transformers import BertTokenizer, BertForSequenceClassification\n",
    "import torch\n",
    "############\n",
    "model_name = '/content/drive/MyDrive/Github/Content/tools/models/chinese-bert-wwm-classification-NRTAtime'\n",
    "############\n",
    "if torch.cuda.device_count() > 0:\n",
    "  device = 'cuda:' + str(torch.cuda.current_device())\n",
    "else:\n",
    "  device = 'cpu'\n",
    "\n",
    "tokenizer = BertTokenizer.from_pretrained(model_name)\n",
    "model = BertForSequenceClassification.from_pretrained(\n",
    "  model_name,\n",
    "  num_labels=N_LABELS,\n",
    "  problem_type=\"multi_label_classification\",\n",
    "  id2label=ID2LABEL,\n",
    "  label2id=LABEL2ID,  \n",
    ").to(device)\n",
    "model.eval() # set model to eval mode for faster prediction"
   ]
  },
  {
   "cell_type": "code",
   "execution_count": null,
   "metadata": {
    "id": "DcRaoi8MeNCE"
   },
   "outputs": [],
   "source": [
    "batch_size = 8\n",
    "i = 0\n",
    "ls = df['梗概'].fillna('').tolist()\n",
    "softmax = torch.nn.Softmax(dim=-1)\n",
    "L = df.shape[0]\n",
    "test_predictions = []\n",
    "\n",
    "while i < L:\n",
    "  batch_test = tokenizer(ls[i:i+batch_size],\n",
    "                           padding=True,\n",
    "                           max_length=512, \n",
    "                           truncation=True, \n",
    "                           return_tensors='pt')\n",
    "  batch_test.to(device)\n",
    "  batch_outputs = model(**batch_test)\n",
    "  batch_logtis = batch_outputs.logits\n",
    "  batch_softmax = softmax(batch_logtis)\n",
    "  batch_results = torch.argmax(batch_softmax, dim=1).cpu().numpy()\n",
    "  test_predictions.extend(list(batch_results))\n",
    "  i += batch_size\n",
    "\n",
    "df['年代'] = test_predictions\n",
    "df['年代'] = df['年代'].apply(lambda x: id2label_time[x])"
   ]
  },
  {
   "cell_type": "markdown",
   "metadata": {
    "id": "Bg25t0aMiTlv"
   },
   "source": [
    "## Predict Title"
   ]
  },
  {
   "cell_type": "code",
   "execution_count": null,
   "metadata": {
    "id": "V1E0YbCviVqo"
   },
   "outputs": [],
   "source": [
    "%%capture\n",
    "from transformers import BertTokenizer, BartForConditionalGeneration\n",
    "\n",
    "# assign device\n",
    "if torch.cuda.device_count() > 0:\n",
    "  device = 'cuda:' + str(torch.cuda.current_device())\n",
    "else:\n",
    "  device = 'cpu'\n",
    "\n",
    "# Instantiate tokenizer and model\n",
    "checkpoint = \"/content/drive/MyDrive/Github/Content/tools/models/PredTitle-10000\"\n",
    "\n",
    "  \n",
    "tokenizer = BertTokenizer.from_pretrained(checkpoint)\n",
    "model = BartForConditionalGeneration.from_pretrained(checkpoint,\n",
    "                                            gradient_checkpointing=True, \n",
    "                                            use_cache=False)\n",
    "model.to(device)\n",
    "model.eval()\n",
    "\n",
    "batch_size = 8\n",
    "i = 0\n",
    "ls = df['梗概'].fillna('').tolist()\n",
    "L = df['梗概'].shape[0]\n",
    "test_predictions = []\n",
    "\n",
    "while i < L:\n",
    "  inputs = tokenizer(ls[i:i+batch_size],\n",
    "                           padding=True,\n",
    "                           max_length=512, \n",
    "                           truncation=True, \n",
    "                           return_tensors='pt')\n",
    "  inputs.to(device)\n",
    "  summary_ids = model.generate(input_ids=inputs['input_ids'],\n",
    "                             num_beams=4,\n",
    "                             min_length=0,\n",
    "                             max_length=32\n",
    "                             )\n",
    "  \n",
    "  ret = [tokenizer.decode(g, \n",
    "                         skip_specical_tokens=True, \n",
    "                         clean_up_tokenization_spaces=True) for g in summary_ids]\n",
    "  test_predictions.extend(ret)\n",
    "  i += batch_size\n",
    "\n",
    "df['预测片名'] = test_predictions\n",
    "\n",
    "def remove_specials(x):\n",
    "  x = re.sub(' ', '', x)\n",
    "  x = re.sub('\\[CLS\\]', '', x)\n",
    "  x = re.sub('\\[PAD\\]', '', x)\n",
    "  x = re.sub('\\[SEP\\]', '', x)\n",
    "  return x\n",
    "\n",
    "df['预测片名'] = df['预测片名'].apply(remove_specials)"
   ]
  },
  {
   "cell_type": "markdown",
   "metadata": {
    "id": "WR53mcvxnYNa"
   },
   "source": [
    "## Extract top keywords"
   ]
  },
  {
   "cell_type": "code",
   "execution_count": null,
   "metadata": {
    "colab": {
     "base_uri": "https://localhost:8080/"
    },
    "executionInfo": {
     "elapsed": 1250,
     "status": "ok",
     "timestamp": 1635909875898,
     "user": {
      "displayName": "Xu Vee",
      "photoUrl": "https://lh3.googleusercontent.com/a-/AOh14GjNTzTx2PmIBbypp7-eWIRwMo4-I9DLyTz70KE9_g=s64",
      "userId": "12955926615284697296"
     },
     "user_tz": 420
    },
    "id": "aJA3u0Rpi7GR",
    "outputId": "27e5bca7-3137-4439-cddb-21946fff28ae"
   },
   "outputs": [
    {
     "name": "stderr",
     "output_type": "stream",
     "text": [
      "Building prefix dict from the default dictionary ...\n",
      "Dumping model to file cache /tmp/jieba.cache\n",
      "Loading model cost 1.182 seconds.\n",
      "Prefix dict has been built successfully.\n"
     ]
    }
   ],
   "source": [
    "import jieba.analyse\n",
    "tfidf = jieba.analyse.extract_tags\n",
    "textrank = jieba.analyse.textrank\n",
    "\n",
    "df['kw'] = df['梗概'].fillna('').apply(textrank, topK=10)"
   ]
  },
  {
   "cell_type": "markdown",
   "metadata": {
    "id": "XhTsUSXreq00"
   },
   "source": [
    "## Identify Main Characters"
   ]
  },
  {
   "cell_type": "code",
   "execution_count": null,
   "metadata": {
    "colab": {
     "base_uri": "https://localhost:8080/"
    },
    "executionInfo": {
     "elapsed": 7,
     "status": "ok",
     "timestamp": 1635909875899,
     "user": {
      "displayName": "Xu Vee",
      "photoUrl": "https://lh3.googleusercontent.com/a-/AOh14GjNTzTx2PmIBbypp7-eWIRwMo4-I9DLyTz70KE9_g=s64",
      "userId": "12955926615284697296"
     },
     "user_tz": 420
    },
    "id": "JyEeGu7Zeu0R",
    "outputId": "d2713a3e-bac3-4da9-c936-3efa42bd3fc0"
   },
   "outputs": [
    {
     "name": "stderr",
     "output_type": "stream",
     "text": [
      "Paddle enabled successfully......\n"
     ]
    }
   ],
   "source": [
    "import jieba\n",
    "import jieba.posseg as pseg\n",
    "jieba.enable_paddle() #启动paddle模式。 0.40版之后开始支持，早期版本不支持"
   ]
  },
  {
   "cell_type": "code",
   "execution_count": null,
   "metadata": {
    "id": "-708gV84ewWT"
   },
   "outputs": [],
   "source": [
    "# 识别主要角色\n",
    "def find_PER(x: pd.Series):\n",
    "  words = pseg.cut(x, use_paddle=True)\n",
    "  ls_PER = []\n",
    "  for word, flag in words:\n",
    "    if flag == 'PER':\n",
    "      word = word.strip('[\\s,，。、“”？；]')\n",
    "      ls_PER.append(word)\n",
    "  ls_PER = list(set(ls_PER))\n",
    "\n",
    "  ls_PER1 = ls_PER.copy()\n",
    "  ls_PER = []\n",
    "  while ls_PER1:\n",
    "    PER =  ls_PER1.pop(0)\n",
    "    ls_tmp = re.split('[\\s,，。、“”？；]', PER)\n",
    "    ls_PER.extend(ls_tmp)\n",
    "\n",
    "  ls_PER = list(set(ls_PER)) \n",
    "  ls_PER = [PER for PER in ls_PER if len(PER) > 1]\n",
    "  ls_PER_sorted = sorted(ls_PER, reverse=False, key=lambda x: len(x))\n",
    "\n",
    "  ans = []\n",
    "  while ls_PER_sorted:\n",
    "    PER = ls_PER_sorted.pop(0)\n",
    "    i = 0\n",
    "    while i < len(ls_PER_sorted):\n",
    "      if re.search(PER, ls_PER_sorted[i]):\n",
    "        ls_PER_sorted.pop(i)\n",
    "        ans.append(PER)\n",
    "      i += 1\n",
    "    if PER not in ans:\n",
    "      ans.append(PER)\n",
    "\n",
    "  return ans"
   ]
  },
  {
   "cell_type": "code",
   "execution_count": null,
   "metadata": {
    "id": "FtvXxcYFKdYj"
   },
   "outputs": [],
   "source": [
    "df['主要角色'] = df['梗概'].fillna('').apply(find_PER)"
   ]
  },
  {
   "cell_type": "code",
   "execution_count": null,
   "metadata": {
    "colab": {
     "base_uri": "https://localhost:8080/",
     "height": 235
    },
    "executionInfo": {
     "elapsed": 33,
     "status": "ok",
     "timestamp": 1635909876273,
     "user": {
      "displayName": "Xu Vee",
      "photoUrl": "https://lh3.googleusercontent.com/a-/AOh14GjNTzTx2PmIBbypp7-eWIRwMo4-I9DLyTz70KE9_g=s64",
      "userId": "12955926615284697296"
     },
     "user_tz": 420
    },
    "id": "i8yXi1avvlIZ",
    "outputId": "0b35b263-33e1-4981-b5a9-2fec268bcfd1"
   },
   "outputs": [
    {
     "data": {
      "text/html": [
       "<div>\n",
       "<style scoped>\n",
       "    .dataframe tbody tr th:only-of-type {\n",
       "        vertical-align: middle;\n",
       "    }\n",
       "\n",
       "    .dataframe tbody tr th {\n",
       "        vertical-align: top;\n",
       "    }\n",
       "\n",
       "    .dataframe thead th {\n",
       "        text-align: right;\n",
       "    }\n",
       "</style>\n",
       "<table border=\"1\" class=\"dataframe\">\n",
       "  <thead>\n",
       "    <tr style=\"text-align: right;\">\n",
       "      <th></th>\n",
       "      <th>主要角色</th>\n",
       "      <th>梗概</th>\n",
       "    </tr>\n",
       "  </thead>\n",
       "  <tbody>\n",
       "    <tr>\n",
       "      <th>0</th>\n",
       "      <td>[林悦怡, 李文革]</td>\n",
       "      <td>一位企业家十八岁的女儿林悦怡，邂逅青年才俊李文革， 发生的一段快乐甜蜜的初恋爱情故事，留下了...</td>\n",
       "    </tr>\n",
       "    <tr>\n",
       "      <th>1</th>\n",
       "      <td>[]</td>\n",
       "      <td>民国年间，一群失意电影人被召集至神秘之地，参与一部电影的剧本会却发现顾问竟是凶手。几个电影人...</td>\n",
       "    </tr>\n",
       "    <tr>\n",
       "      <th>2</th>\n",
       "      <td>[韩淼, 苏杰, 麦子轩]</td>\n",
       "      <td>韩淼和麦子轩是一对情人。在前男友苏杰的欺骗下，韩淼和苏杰发生了亲密关系。为了对麦子轩隐瞒真相...</td>\n",
       "    </tr>\n",
       "    <tr>\n",
       "      <th>3</th>\n",
       "      <td>[刘宪]</td>\n",
       "      <td>刘宪为了机会和梦想远走家乡，但生活用现实将刘宪梦想的火苗渐渐熄灭。几近绝望之时刘宪终于迎来了...</td>\n",
       "    </tr>\n",
       "    <tr>\n",
       "      <th>4</th>\n",
       "      <td>[小胖, 马天一, 石一枝]</td>\n",
       "      <td>生活中一事无成的马天一突然遇到了小时候深恋的女同学石一枝，为了帮助她摆脱当前的困境同时也为了...</td>\n",
       "    </tr>\n",
       "    <tr>\n",
       "      <th>5</th>\n",
       "      <td>[邓小平]</td>\n",
       "      <td>文革期间邓小平下放江西接受劳动改造，面临政治生活双重压力。他悉心照顾瘫痪在床的大儿子，每天为...</td>\n",
       "    </tr>\n",
       "  </tbody>\n",
       "</table>\n",
       "</div>"
      ],
      "text/plain": [
       "             主要角色                                                 梗概\n",
       "0      [林悦怡, 李文革]  一位企业家十八岁的女儿林悦怡，邂逅青年才俊李文革， 发生的一段快乐甜蜜的初恋爱情故事，留下了...\n",
       "1              []  民国年间，一群失意电影人被召集至神秘之地，参与一部电影的剧本会却发现顾问竟是凶手。几个电影人...\n",
       "2   [韩淼, 苏杰, 麦子轩]  韩淼和麦子轩是一对情人。在前男友苏杰的欺骗下，韩淼和苏杰发生了亲密关系。为了对麦子轩隐瞒真相...\n",
       "3            [刘宪]  刘宪为了机会和梦想远走家乡，但生活用现实将刘宪梦想的火苗渐渐熄灭。几近绝望之时刘宪终于迎来了...\n",
       "4  [小胖, 马天一, 石一枝]  生活中一事无成的马天一突然遇到了小时候深恋的女同学石一枝，为了帮助她摆脱当前的困境同时也为了...\n",
       "5           [邓小平]  文革期间邓小平下放江西接受劳动改造，面临政治生活双重压力。他悉心照顾瘫痪在床的大儿子，每天为..."
      ]
     },
     "execution_count": 86,
     "metadata": {},
     "output_type": "execute_result"
    }
   ],
   "source": [
    "df[['主要角色', '梗概']]"
   ]
  },
  {
   "cell_type": "code",
   "execution_count": null,
   "metadata": {
    "colab": {
     "base_uri": "https://localhost:8080/",
     "height": 512
    },
    "executionInfo": {
     "elapsed": 220,
     "status": "error",
     "timestamp": 1635910173225,
     "user": {
      "displayName": "Xu Vee",
      "photoUrl": "https://lh3.googleusercontent.com/a-/AOh14GjNTzTx2PmIBbypp7-eWIRwMo4-I9DLyTz70KE9_g=s64",
      "userId": "12955926615284697296"
     },
     "user_tz": 420
    },
    "id": "rYlikXVYvjuq",
    "outputId": "031a9cc5-35b9-4850-b374-bdbc9458166a"
   },
   "outputs": [
    {
     "ename": "KeyError",
     "evalue": "ignored",
     "output_type": "error",
     "traceback": [
      "\u001b[0;31m---------------------------------------------------------------------------\u001b[0m",
      "\u001b[0;31mKeyError\u001b[0m                                  Traceback (most recent call last)",
      "\u001b[0;32m/usr/local/lib/python3.7/dist-packages/pandas/core/indexes/base.py\u001b[0m in \u001b[0;36mget_loc\u001b[0;34m(self, key, method, tolerance)\u001b[0m\n\u001b[1;32m   3360\u001b[0m             \u001b[0;32mtry\u001b[0m\u001b[0;34m:\u001b[0m\u001b[0;34m\u001b[0m\u001b[0;34m\u001b[0m\u001b[0m\n\u001b[0;32m-> 3361\u001b[0;31m                 \u001b[0;32mreturn\u001b[0m \u001b[0mself\u001b[0m\u001b[0;34m.\u001b[0m\u001b[0m_engine\u001b[0m\u001b[0;34m.\u001b[0m\u001b[0mget_loc\u001b[0m\u001b[0;34m(\u001b[0m\u001b[0mcasted_key\u001b[0m\u001b[0;34m)\u001b[0m\u001b[0;34m\u001b[0m\u001b[0;34m\u001b[0m\u001b[0m\n\u001b[0m\u001b[1;32m   3362\u001b[0m             \u001b[0;32mexcept\u001b[0m \u001b[0mKeyError\u001b[0m \u001b[0;32mas\u001b[0m \u001b[0merr\u001b[0m\u001b[0;34m:\u001b[0m\u001b[0;34m\u001b[0m\u001b[0;34m\u001b[0m\u001b[0m\n",
      "\u001b[0;32m/usr/local/lib/python3.7/dist-packages/pandas/_libs/index.pyx\u001b[0m in \u001b[0;36mpandas._libs.index.IndexEngine.get_loc\u001b[0;34m()\u001b[0m\n",
      "\u001b[0;32m/usr/local/lib/python3.7/dist-packages/pandas/_libs/index.pyx\u001b[0m in \u001b[0;36mpandas._libs.index.IndexEngine.get_loc\u001b[0;34m()\u001b[0m\n",
      "\u001b[0;32mpandas/_libs/hashtable_class_helper.pxi\u001b[0m in \u001b[0;36mpandas._libs.hashtable.PyObjectHashTable.get_item\u001b[0;34m()\u001b[0m\n",
      "\u001b[0;32mpandas/_libs/hashtable_class_helper.pxi\u001b[0m in \u001b[0;36mpandas._libs.hashtable.PyObjectHashTable.get_item\u001b[0;34m()\u001b[0m\n",
      "\u001b[0;31mKeyError\u001b[0m: (8,)",
      "\nThe above exception was the direct cause of the following exception:\n",
      "\u001b[0;31mKeyError\u001b[0m                                  Traceback (most recent call last)",
      "\u001b[0;32m<ipython-input-95-418ad817ee89>\u001b[0m in \u001b[0;36m<module>\u001b[0;34m()\u001b[0m\n\u001b[0;32m----> 1\u001b[0;31m \u001b[0;32mdel\u001b[0m \u001b[0mdf\u001b[0m\u001b[0;34m[\u001b[0m\u001b[0;36m8\u001b[0m\u001b[0;34m,\u001b[0m\u001b[0;34m]\u001b[0m\u001b[0;34m\u001b[0m\u001b[0;34m\u001b[0m\u001b[0m\n\u001b[0m",
      "\u001b[0;32m/usr/local/lib/python3.7/dist-packages/pandas/core/generic.py\u001b[0m in \u001b[0;36m__delitem__\u001b[0;34m(self, key)\u001b[0m\n\u001b[1;32m   3961\u001b[0m             \u001b[0;31m# there was no match, this call should raise the appropriate\u001b[0m\u001b[0;34m\u001b[0m\u001b[0;34m\u001b[0m\u001b[0;34m\u001b[0m\u001b[0m\n\u001b[1;32m   3962\u001b[0m             \u001b[0;31m# exception:\u001b[0m\u001b[0;34m\u001b[0m\u001b[0;34m\u001b[0m\u001b[0;34m\u001b[0m\u001b[0m\n\u001b[0;32m-> 3963\u001b[0;31m             \u001b[0mloc\u001b[0m \u001b[0;34m=\u001b[0m \u001b[0mself\u001b[0m\u001b[0;34m.\u001b[0m\u001b[0maxes\u001b[0m\u001b[0;34m[\u001b[0m\u001b[0;34m-\u001b[0m\u001b[0;36m1\u001b[0m\u001b[0;34m]\u001b[0m\u001b[0;34m.\u001b[0m\u001b[0mget_loc\u001b[0m\u001b[0;34m(\u001b[0m\u001b[0mkey\u001b[0m\u001b[0;34m)\u001b[0m\u001b[0;34m\u001b[0m\u001b[0;34m\u001b[0m\u001b[0m\n\u001b[0m\u001b[1;32m   3964\u001b[0m             \u001b[0mself\u001b[0m\u001b[0;34m.\u001b[0m\u001b[0m_mgr\u001b[0m \u001b[0;34m=\u001b[0m \u001b[0mself\u001b[0m\u001b[0;34m.\u001b[0m\u001b[0m_mgr\u001b[0m\u001b[0;34m.\u001b[0m\u001b[0midelete\u001b[0m\u001b[0;34m(\u001b[0m\u001b[0mloc\u001b[0m\u001b[0;34m)\u001b[0m\u001b[0;34m\u001b[0m\u001b[0;34m\u001b[0m\u001b[0m\n\u001b[1;32m   3965\u001b[0m \u001b[0;34m\u001b[0m\u001b[0m\n",
      "\u001b[0;32m/usr/local/lib/python3.7/dist-packages/pandas/core/indexes/base.py\u001b[0m in \u001b[0;36mget_loc\u001b[0;34m(self, key, method, tolerance)\u001b[0m\n\u001b[1;32m   3361\u001b[0m                 \u001b[0;32mreturn\u001b[0m \u001b[0mself\u001b[0m\u001b[0;34m.\u001b[0m\u001b[0m_engine\u001b[0m\u001b[0;34m.\u001b[0m\u001b[0mget_loc\u001b[0m\u001b[0;34m(\u001b[0m\u001b[0mcasted_key\u001b[0m\u001b[0;34m)\u001b[0m\u001b[0;34m\u001b[0m\u001b[0;34m\u001b[0m\u001b[0m\n\u001b[1;32m   3362\u001b[0m             \u001b[0;32mexcept\u001b[0m \u001b[0mKeyError\u001b[0m \u001b[0;32mas\u001b[0m \u001b[0merr\u001b[0m\u001b[0;34m:\u001b[0m\u001b[0;34m\u001b[0m\u001b[0;34m\u001b[0m\u001b[0m\n\u001b[0;32m-> 3363\u001b[0;31m                 \u001b[0;32mraise\u001b[0m \u001b[0mKeyError\u001b[0m\u001b[0;34m(\u001b[0m\u001b[0mkey\u001b[0m\u001b[0;34m)\u001b[0m \u001b[0;32mfrom\u001b[0m \u001b[0merr\u001b[0m\u001b[0;34m\u001b[0m\u001b[0;34m\u001b[0m\u001b[0m\n\u001b[0m\u001b[1;32m   3364\u001b[0m \u001b[0;34m\u001b[0m\u001b[0m\n\u001b[1;32m   3365\u001b[0m         \u001b[0;32mif\u001b[0m \u001b[0mis_scalar\u001b[0m\u001b[0;34m(\u001b[0m\u001b[0mkey\u001b[0m\u001b[0;34m)\u001b[0m \u001b[0;32mand\u001b[0m \u001b[0misna\u001b[0m\u001b[0;34m(\u001b[0m\u001b[0mkey\u001b[0m\u001b[0;34m)\u001b[0m \u001b[0;32mand\u001b[0m \u001b[0;32mnot\u001b[0m \u001b[0mself\u001b[0m\u001b[0;34m.\u001b[0m\u001b[0mhasnans\u001b[0m\u001b[0;34m:\u001b[0m\u001b[0;34m\u001b[0m\u001b[0;34m\u001b[0m\u001b[0m\n",
      "\u001b[0;31mKeyError\u001b[0m: (8,)"
     ]
    }
   ],
   "source": [
    "  del df[8,]"
   ]
  },
  {
   "cell_type": "markdown",
   "metadata": {
    "id": "NGNW6gaBiL5G"
   },
   "source": [
    "## adjust genre"
   ]
  },
  {
   "cell_type": "code",
   "execution_count": null,
   "metadata": {
    "colab": {
     "base_uri": "https://localhost:8080/"
    },
    "executionInfo": {
     "elapsed": 36,
     "status": "ok",
     "timestamp": 1635909876280,
     "user": {
      "displayName": "Xu Vee",
      "photoUrl": "https://lh3.googleusercontent.com/a-/AOh14GjNTzTx2PmIBbypp7-eWIRwMo4-I9DLyTz70KE9_g=s64",
      "userId": "12955926615284697296"
     },
     "user_tz": 420
    },
    "id": "wy6lVZkkX_ed",
    "outputId": "3cc9fc46-614b-4bea-de70-846ade440285"
   },
   "outputs": [
    {
     "data": {
      "text/plain": [
       "Index(['电影名称', 'pubtitle', 'pubdate', 'publink', '上映日期', '导演', '主演', '国别/地区',\n",
       "       'img_remote', '匹配片名', '序号', '电影类别', '编码', '公映证号', '第一出品单位', '公示批次链接',\n",
       "       '公示名称', '公示日期', '编剧', '梗概', '备案公示日期', '备案单位', '备案结果', '备案立项号', '备案至今',\n",
       "       '类型', '年代', '预测片名', 'kw', '主要角色'],\n",
       "      dtype='object')"
      ]
     },
     "execution_count": 88,
     "metadata": {},
     "output_type": "execute_result"
    }
   ],
   "source": [
    "df.columns"
   ]
  },
  {
   "cell_type": "code",
   "execution_count": null,
   "metadata": {
    "colab": {
     "base_uri": "https://localhost:8080/"
    },
    "executionInfo": {
     "elapsed": 29,
     "status": "ok",
     "timestamp": 1635909876281,
     "user": {
      "displayName": "Xu Vee",
      "photoUrl": "https://lh3.googleusercontent.com/a-/AOh14GjNTzTx2PmIBbypp7-eWIRwMo4-I9DLyTz70KE9_g=s64",
      "userId": "12955926615284697296"
     },
     "user_tz": 420
    },
    "id": "N1sAECRng8Vg",
    "outputId": "46a98d5f-1332-4e96-999c-a79bb2f262db"
   },
   "outputs": [
    {
     "data": {
      "text/plain": [
       "array(['都市', '其它', '都市', '都市', '都市', '都市', nan, nan], dtype=object)"
      ]
     },
     "execution_count": 89,
     "metadata": {},
     "output_type": "execute_result"
    }
   ],
   "source": [
    "df['修正类型'] = df['类型'].copy()\n",
    "df['类型'].to_numpy()"
   ]
  },
  {
   "cell_type": "code",
   "execution_count": null,
   "metadata": {
    "id": "6ymILkQMhQqw"
   },
   "outputs": [],
   "source": [
    "adjusted = ['爱情', '悬疑', '爱情', '都市', '都市', '传记', None, None]\n",
    "\n",
    "df['修正类型'] = adjusted"
   ]
  },
  {
   "cell_type": "code",
   "execution_count": null,
   "metadata": {
    "colab": {
     "base_uri": "https://localhost:8080/",
     "height": 353
    },
    "executionInfo": {
     "elapsed": 201,
     "status": "ok",
     "timestamp": 1635910221136,
     "user": {
      "displayName": "Xu Vee",
      "photoUrl": "https://lh3.googleusercontent.com/a-/AOh14GjNTzTx2PmIBbypp7-eWIRwMo4-I9DLyTz70KE9_g=s64",
      "userId": "12955926615284697296"
     },
     "user_tz": 420
    },
    "id": "P724ZpO-ihvb",
    "outputId": "430d5bfe-ae8f-4299-c124-caf0beeb226d"
   },
   "outputs": [
    {
     "data": {
      "text/html": [
       "<table border=\"1\" class=\"dataframe\">\n",
       "  <thead>\n",
       "    <tr style=\"text-align: right;\">\n",
       "      <th></th>\n",
       "      <th>电影名称</th>\n",
       "      <th>类型</th>\n",
       "      <th>修正类型</th>\n",
       "      <th>梗概</th>\n",
       "    </tr>\n",
       "  </thead>\n",
       "  <tbody>\n",
       "    <tr>\n",
       "      <th>0</th>\n",
       "      <td>我的初恋⼗⼋岁</td>\n",
       "      <td>都市</td>\n",
       "      <td>爱情</td>\n",
       "      <td>一位企业家十八岁的女儿林悦怡，邂逅青年才俊李文革， 发生的一段快乐甜蜜的初恋爱情故事，留下了一组美好的怀旧场面。</td>\n",
       "    </tr>\n",
       "    <tr>\n",
       "      <th>1</th>\n",
       "      <td>扬名⽴万</td>\n",
       "      <td>其它</td>\n",
       "      <td>悬疑</td>\n",
       "      <td>民国年间，一群失意电影人被召集至神秘之地，参与一部电影的剧本会却发现顾问竟是凶手。几个电影人各自的态度和目的都有不同。案情疑点重重，幕后隐藏着不可告人的真相。他们不知该将一切公之于众还是保持沉默。</td>\n",
       "    </tr>\n",
       "    <tr>\n",
       "      <th>2</th>\n",
       "      <td>指引</td>\n",
       "      <td>都市</td>\n",
       "      <td>爱情</td>\n",
       "      <td>韩淼和麦子轩是一对情人。在前男友苏杰的欺骗下，韩淼和苏杰发生了亲密关系。为了对麦子轩隐瞒真相，韩淼试图破解黑科技“指引”。正当她准备卸载“指引”并向麦子轩吐露真相时，麦子轩却抢先说出了自己的秘密。</td>\n",
       "    </tr>\n",
       "    <tr>\n",
       "      <th>3</th>\n",
       "      <td>八拍</td>\n",
       "      <td>都市</td>\n",
       "      <td>都市</td>\n",
       "      <td>刘宪为了机会和梦想远走家乡，但生活用现实将刘宪梦想的火苗渐渐熄灭。几近绝望之时刘宪终于迎来了期望已久的机会，谁知等到的却是更大的打击。最终游走在放弃边缘的刘宪在家人和朋友的陪伴下重拾初心，再次出发。</td>\n",
       "    </tr>\n",
       "    <tr>\n",
       "      <th>4</th>\n",
       "      <td>捞世界</td>\n",
       "      <td>都市</td>\n",
       "      <td>都市</td>\n",
       "      <td>生活中一事无成的马天一突然遇到了小时候深恋的女同学石一枝，为了帮助她摆脱当前的困境同时也为了证明自己，马天一决定带着好兄弟小胖去挣一笔大钱，不料从此踏上一段奇葩的冒险之旅。</td>\n",
       "    </tr>\n",
       "    <tr>\n",
       "      <th>5</th>\n",
       "      <td>邓⼩平⼩道</td>\n",
       "      <td>都市</td>\n",
       "      <td>传记</td>\n",
       "      <td>文革期间邓小平下放江西接受劳动改造，面临政治生活双重压力。他悉心照顾瘫痪在床的大儿子，每天为他擦背翻身。他深入基层，倍感群众生活的艰辛！他每天散步思索中国向何处去，三年零四个月踩出一条小道：邓小平小道</td>\n",
       "    </tr>\n",
       "  </tbody>\n",
       "</table>"
      ],
      "text/plain": [
       "<IPython.core.display.HTML object>"
      ]
     },
     "execution_count": 98,
     "metadata": {},
     "output_type": "execute_result"
    }
   ],
   "source": [
    "HTML(df[['电影名称', '类型', '修正类型', '梗概']].to_html())"
   ]
  },
  {
   "cell_type": "markdown",
   "metadata": {
    "id": "YYYFJ8Psfh_v"
   },
   "source": [
    "## Save Records Curr Issue"
   ]
  },
  {
   "cell_type": "code",
   "execution_count": null,
   "metadata": {
    "id": "PbsHZIGTe16M"
   },
   "outputs": [],
   "source": [
    "# Save records for current release issue\n",
    "df.to_pickle(path_records + '/df_releases_zgdypw_{}.pkl'.format(str_pubdate_latest))"
   ]
  },
  {
   "cell_type": "code",
   "execution_count": null,
   "metadata": {
    "id": "d5AsbkpUtaAq"
   },
   "outputs": [],
   "source": [
    "#df = pd.read_pickle(path_records + '/df_releases_{}.pkl'.format(pubdate_latest))"
   ]
  },
  {
   "cell_type": "code",
   "execution_count": null,
   "metadata": {
    "id": "-g69eTw0uEYK"
   },
   "outputs": [],
   "source": [
    "HTML(df.to_html())"
   ]
  },
  {
   "cell_type": "code",
   "execution_count": null,
   "metadata": {
    "colab": {
     "base_uri": "https://localhost:8080/",
     "height": 36
    },
    "executionInfo": {
     "elapsed": 192,
     "status": "ok",
     "timestamp": 1635910232245,
     "user": {
      "displayName": "Xu Vee",
      "photoUrl": "https://lh3.googleusercontent.com/a-/AOh14GjNTzTx2PmIBbypp7-eWIRwMo4-I9DLyTz70KE9_g=s64",
      "userId": "12955926615284697296"
     },
     "user_tz": 420
    },
    "id": "X4QriPcOgmx-",
    "outputId": "d76fcf41-794e-4ef8-a5d6-db8760abb8db"
   },
   "outputs": [
    {
     "data": {
      "application/vnd.google.colaboratory.intrinsic+json": {
       "type": "string"
      },
      "text/plain": [
       "'/content/drive/MyDrive/Github/Article'"
      ]
     },
     "execution_count": 100,
     "metadata": {},
     "output_type": "execute_result"
    }
   ],
   "source": [
    "path_wd"
   ]
  },
  {
   "cell_type": "code",
   "execution_count": null,
   "metadata": {
    "id": "20t9SNZZgG7e"
   },
   "outputs": [],
   "source": [
    "# Download picture\n",
    "import urllib.request\n",
    "\n",
    "for img in df['img_remote'].to_numpy():\n",
    "  fp_local = path_zgdypw + '/img/' + img.split('/')[-1]\n",
    "  urllib.request.urlretrieve(img, fp_local)"
   ]
  },
  {
   "cell_type": "markdown",
   "metadata": {
    "id": "jftPIZCy6GKU"
   },
   "source": [
    "# View Table\n"
   ]
  },
  {
   "cell_type": "code",
   "execution_count": null,
   "metadata": {
    "colab": {
     "base_uri": "https://localhost:8080/"
    },
    "executionInfo": {
     "elapsed": 20,
     "status": "ok",
     "timestamp": 1635910250866,
     "user": {
      "displayName": "Xu Vee",
      "photoUrl": "https://lh3.googleusercontent.com/a-/AOh14GjNTzTx2PmIBbypp7-eWIRwMo4-I9DLyTz70KE9_g=s64",
      "userId": "12955926615284697296"
     },
     "user_tz": 420
    },
    "id": "Hryd2mDhgJjJ",
    "outputId": "954785a8-9afb-4c1b-d0de-c6ee200700c9"
   },
   "outputs": [
    {
     "data": {
      "text/plain": [
       "Index(['电影名称', 'pubtitle', 'pubdate', 'publink', '上映日期', '导演', '主演', '国别/地区',\n",
       "       'img_remote', '匹配片名', '序号', '电影类别', '编码', '公映证号', '第一出品单位', '公示批次链接',\n",
       "       '公示名称', '公示日期', '编剧', '梗概', '备案公示日期', '备案单位', '备案结果', '备案立项号', '备案至今',\n",
       "       '类型', '年代', '预测片名', 'kw', '主要角色', '修正类型'],\n",
       "      dtype='object')"
      ]
     },
     "execution_count": 102,
     "metadata": {},
     "output_type": "execute_result"
    }
   ],
   "source": [
    "df.columns"
   ]
  },
  {
   "cell_type": "code",
   "execution_count": null,
   "metadata": {
    "colab": {
     "base_uri": "https://localhost:8080/"
    },
    "executionInfo": {
     "elapsed": 182,
     "status": "ok",
     "timestamp": 1635910258703,
     "user": {
      "displayName": "Xu Vee",
      "photoUrl": "https://lh3.googleusercontent.com/a-/AOh14GjNTzTx2PmIBbypp7-eWIRwMo4-I9DLyTz70KE9_g=s64",
      "userId": "12955926615284697296"
     },
     "user_tz": 420
    },
    "id": "DMkqQHGKDYpX",
    "outputId": "9bbae385-12f8-4222-dfbe-cd51756c2f84"
   },
   "outputs": [
    {
     "name": "stderr",
     "output_type": "stream",
     "text": [
      "/usr/local/lib/python3.7/dist-packages/ipykernel_launcher.py:5: SettingWithCopyWarning: \n",
      "A value is trying to be set on a copy of a slice from a DataFrame.\n",
      "Try using .loc[row_indexer,col_indexer] = value instead\n",
      "\n",
      "See the caveats in the documentation: https://pandas.pydata.org/pandas-docs/stable/user_guide/indexing.html#returning-a-view-versus-a-copy\n",
      "  \"\"\"\n",
      "/usr/local/lib/python3.7/dist-packages/pandas/core/indexing.py:1817: SettingWithCopyWarning: \n",
      "A value is trying to be set on a copy of a slice from a DataFrame.\n",
      "Try using .loc[row_indexer,col_indexer] = value instead\n",
      "\n",
      "See the caveats in the documentation: https://pandas.pydata.org/pandas-docs/stable/user_guide/indexing.html#returning-a-view-versus-a-copy\n",
      "  self._setitem_single_column(loc, value, pi)\n"
     ]
    }
   ],
   "source": [
    "# 出品单位变更\n",
    "tmp = df[['备案单位','第一出品单位']].fillna('').apply(\n",
    "    lambda x: re.search(x['第一出品单位'], x['备案单位']), axis=1).to_frame()\n",
    "idx_co_change = tmp[tmp[0].isna()].index\n",
    "df['公司变更'] = 0\n",
    "df.loc[idx_co_change, '公司变更'] = 1\n",
    "\n",
    "# 改名\n",
    "df_view = df.copy()\n",
    "df_view.loc[df_view['电影名称'] == df_view['匹配片名'], '匹配片名'] = ''\n",
    "df_view.rename(columns={'匹配片名':'备案名'}, inplace=True)\n",
    "\n",
    "# 出品单位变更\n",
    "df_view.loc[df_view['公司变更'] == 0, '备案单位'] = ''\n",
    "df_view.rename(columns={'备案单位':'原备案单位'}, inplace=True)\n",
    "df_view.drop('公司变更', axis=1, inplace=True)\n",
    "\n",
    "# 备案修改\n",
    "df_view.loc[df_view['备案结果'].fillna('').str.contains('修改'),'备案结果'] = '是'\n",
    "df_view.loc[df_view['备案结果'].fillna('').str.contains('同意'),'备案结果'] = ''\n",
    "df_view.rename(columns={'备案结果':'是否修改'}, inplace=True)\n",
    "\n",
    "# 备案至今\n",
    "df_view['备案至今'] = round((df_view['备案至今'].dt.days + 60) / 365, 1)\n",
    "#df_view.sort_values(by='备案至今', ascending=False, inplace=True)\n",
    "#df_view['备案至今'] = df_view['备案至今'].apply(lambda x: '> ' + str(x) + ' 年')\n",
    "\n",
    "# 公映许可至今\n",
    "\n",
    "# 上映日期(月)\n",
    "df_view['公示日期'] = pd.to_datetime(df_view['公示日期'])\n",
    "df_view['距离公映许可'] = (12*(df_view['上映日期'].dt.year-df_view['公示日期'].dt.year) \n",
    "  + (df_view['上映日期'].dt.month - df_view['公示日期'].dt.month))"
   ]
  },
  {
   "cell_type": "code",
   "execution_count": null,
   "metadata": {
    "id": "kXkrGp36n7L1"
   },
   "outputs": [],
   "source": [
    "df_view['公示名称']"
   ]
  },
  {
   "cell_type": "code",
   "execution_count": null,
   "metadata": {
    "colab": {
     "base_uri": "https://localhost:8080/"
    },
    "executionInfo": {
     "elapsed": 214,
     "status": "ok",
     "timestamp": 1635910263886,
     "user": {
      "displayName": "Xu Vee",
      "photoUrl": "https://lh3.googleusercontent.com/a-/AOh14GjNTzTx2PmIBbypp7-eWIRwMo4-I9DLyTz70KE9_g=s64",
      "userId": "12955926615284697296"
     },
     "user_tz": 420
    },
    "id": "OneVMx4un0VM",
    "outputId": "c09fd8df-24ae-4a03-9a63-058216c101f9"
   },
   "outputs": [
    {
     "data": {
      "text/plain": [
       "Index(['电影名称', 'pubtitle', 'pubdate', 'publink', '上映日期', '导演', '主演', '国别/地区',\n",
       "       'img_remote', '备案名', '序号', '电影类别', '编码', '公映证号', '第一出品单位', '公示批次链接',\n",
       "       '公示名称', '公示日期', '编剧', '梗概', '备案公示日期', '原备案单位', '是否修改', '备案立项号', '备案至今',\n",
       "       '类型', '年代', '预测片名', 'kw', '主要角色', '修正类型', '距离公映许可'],\n",
       "      dtype='object')"
      ]
     },
     "execution_count": 104,
     "metadata": {},
     "output_type": "execute_result"
    }
   ],
   "source": [
    "df_view.columns"
   ]
  },
  {
   "cell_type": "code",
   "execution_count": null,
   "metadata": {
    "id": "ewx3J8S-m2Uf"
   },
   "outputs": [],
   "source": [
    "HTML(df_view.to_html())"
   ]
  },
  {
   "cell_type": "markdown",
   "metadata": {
    "id": "JvYBq-OXqXO_"
   },
   "source": [
    "# [6] Generate WordCloud"
   ]
  },
  {
   "cell_type": "code",
   "execution_count": null,
   "metadata": {
    "id": "8tgL5Fm3qW1Z"
   },
   "outputs": [],
   "source": [
    "from IPython.display import Image as Img\n",
    "from PIL import Image as pil\n",
    "\n",
    "path_posters = '/content/drive/MyDrive/Github/Article/img/posters'\n",
    "path_icon = '/content/drive/MyDrive/Github/Article/img/genre_icon'\n",
    "\n",
    "#df_label2img.to_json(path_records + '/df_label2img.json')\n",
    "df_label2img = pd.read_json(path_wd + '/records/df_label2img.json')"
   ]
  },
  {
   "cell_type": "code",
   "execution_count": null,
   "metadata": {
    "colab": {
     "base_uri": "https://localhost:8080/"
    },
    "executionInfo": {
     "elapsed": 190,
     "status": "ok",
     "timestamp": 1635910349623,
     "user": {
      "displayName": "Xu Vee",
      "photoUrl": "https://lh3.googleusercontent.com/a-/AOh14GjNTzTx2PmIBbypp7-eWIRwMo4-I9DLyTz70KE9_g=s64",
      "userId": "12955926615284697296"
     },
     "user_tz": 420
    },
    "id": "sT4f5e6Y2ql-",
    "outputId": "ea40eba7-43fe-4523-8e42-bb7968d13c02"
   },
   "outputs": [
    {
     "data": {
      "text/plain": [
       "array(['爱情', '悬疑', '都市', '传记'], dtype=object)"
      ]
     },
     "execution_count": 107,
     "metadata": {},
     "output_type": "execute_result"
    }
   ],
   "source": [
    "df['修正类型'].unique()"
   ]
  },
  {
   "cell_type": "code",
   "execution_count": null,
   "metadata": {
    "colab": {
     "base_uri": "https://localhost:8080/",
     "height": 667
    },
    "executionInfo": {
     "elapsed": 209,
     "status": "ok",
     "timestamp": 1635910694341,
     "user": {
      "displayName": "Xu Vee",
      "photoUrl": "https://lh3.googleusercontent.com/a-/AOh14GjNTzTx2PmIBbypp7-eWIRwMo4-I9DLyTz70KE9_g=s64",
      "userId": "12955926615284697296"
     },
     "user_tz": 420
    },
    "id": "TOuCIq7rq-9m",
    "outputId": "06c243f5-a25d-4df1-9df3-22482ac115c3"
   },
   "outputs": [
    {
     "data": {
      "text/html": [
       "<div>\n",
       "<style scoped>\n",
       "    .dataframe tbody tr th:only-of-type {\n",
       "        vertical-align: middle;\n",
       "    }\n",
       "\n",
       "    .dataframe tbody tr th {\n",
       "        vertical-align: top;\n",
       "    }\n",
       "\n",
       "    .dataframe thead th {\n",
       "        text-align: right;\n",
       "    }\n",
       "</style>\n",
       "<table border=\"1\" class=\"dataframe\">\n",
       "  <thead>\n",
       "    <tr style=\"text-align: right;\">\n",
       "      <th></th>\n",
       "      <th>label</th>\n",
       "      <th>fn</th>\n",
       "    </tr>\n",
       "  </thead>\n",
       "  <tbody>\n",
       "    <tr>\n",
       "      <th>0</th>\n",
       "      <td>都市</td>\n",
       "      <td>cityurban.png</td>\n",
       "    </tr>\n",
       "    <tr>\n",
       "      <th>1</th>\n",
       "      <td>革命</td>\n",
       "      <td>muscle-1085672_1280.png</td>\n",
       "    </tr>\n",
       "    <tr>\n",
       "      <th>2</th>\n",
       "      <td>军旅</td>\n",
       "      <td>tank-2466145_1920.png</td>\n",
       "    </tr>\n",
       "    <tr>\n",
       "      <th>3</th>\n",
       "      <td>好人好事</td>\n",
       "      <td>thumbs-up-1197309_1280.png</td>\n",
       "    </tr>\n",
       "    <tr>\n",
       "      <th>4</th>\n",
       "      <td>爱情</td>\n",
       "      <td>colorful-1237242_1280.png</td>\n",
       "    </tr>\n",
       "    <tr>\n",
       "      <th>5</th>\n",
       "      <td>家庭伦理</td>\n",
       "      <td>colorful-1220744_1280.png</td>\n",
       "    </tr>\n",
       "    <tr>\n",
       "      <th>6</th>\n",
       "      <td>惊悚</td>\n",
       "      <td>swan-46510_1280.png</td>\n",
       "    </tr>\n",
       "    <tr>\n",
       "      <th>7</th>\n",
       "      <td>剧情</td>\n",
       "      <td>art-2687649_1280.png</td>\n",
       "    </tr>\n",
       "    <tr>\n",
       "      <th>8</th>\n",
       "      <td>枪战</td>\n",
       "      <td>bomb-160476.png</td>\n",
       "    </tr>\n",
       "    <tr>\n",
       "      <th>9</th>\n",
       "      <td>农村</td>\n",
       "      <td>sun-5006687_1280.png</td>\n",
       "    </tr>\n",
       "    <tr>\n",
       "      <th>10</th>\n",
       "      <td>传记</td>\n",
       "      <td>feel-free-3566550_1280.png</td>\n",
       "    </tr>\n",
       "    <tr>\n",
       "      <th>11</th>\n",
       "      <td>传奇</td>\n",
       "      <td>fu-4075734_1920.png</td>\n",
       "    </tr>\n",
       "    <tr>\n",
       "      <th>15</th>\n",
       "      <td>宫廷</td>\n",
       "      <td>temple-42519_1280.png</td>\n",
       "    </tr>\n",
       "    <tr>\n",
       "      <th>16</th>\n",
       "      <td>武打</td>\n",
       "      <td>fighter-2732203_1920.png</td>\n",
       "    </tr>\n",
       "    <tr>\n",
       "      <th>17</th>\n",
       "      <td>涉案</td>\n",
       "      <td>jail.png</td>\n",
       "    </tr>\n",
       "    <tr>\n",
       "      <th>18</th>\n",
       "      <td>神话</td>\n",
       "      <td>low-poly-2789706_1280.png</td>\n",
       "    </tr>\n",
       "    <tr>\n",
       "      <th>19</th>\n",
       "      <td>科幻</td>\n",
       "      <td>jupiter-55000.png</td>\n",
       "    </tr>\n",
       "    <tr>\n",
       "      <th>21</th>\n",
       "      <td>青少</td>\n",
       "      <td>art-2687649_1280.png</td>\n",
       "    </tr>\n",
       "    <tr>\n",
       "      <th>23</th>\n",
       "      <td>其它</td>\n",
       "      <td>prismatic-colors-149677_1280.png</td>\n",
       "    </tr>\n",
       "    <tr>\n",
       "      <th>24</th>\n",
       "      <td>悬疑</td>\n",
       "      <td>octopus-4257636_1920.png</td>\n",
       "    </tr>\n",
       "  </tbody>\n",
       "</table>\n",
       "</div>"
      ],
      "text/plain": [
       "   label                                fn\n",
       "0     都市                     cityurban.png\n",
       "1     革命           muscle-1085672_1280.png\n",
       "2     军旅             tank-2466145_1920.png\n",
       "3   好人好事        thumbs-up-1197309_1280.png\n",
       "4     爱情         colorful-1237242_1280.png\n",
       "5   家庭伦理         colorful-1220744_1280.png\n",
       "6     惊悚               swan-46510_1280.png\n",
       "7     剧情              art-2687649_1280.png\n",
       "8     枪战                   bomb-160476.png\n",
       "9     农村              sun-5006687_1280.png\n",
       "10    传记        feel-free-3566550_1280.png\n",
       "11    传奇               fu-4075734_1920.png\n",
       "15    宫廷             temple-42519_1280.png\n",
       "16    武打          fighter-2732203_1920.png\n",
       "17    涉案                          jail.png\n",
       "18    神话         low-poly-2789706_1280.png\n",
       "19    科幻                 jupiter-55000.png\n",
       "21    青少              art-2687649_1280.png\n",
       "23    其它  prismatic-colors-149677_1280.png\n",
       "24    悬疑          octopus-4257636_1920.png"
      ]
     },
     "execution_count": 116,
     "metadata": {},
     "output_type": "execute_result"
    }
   ],
   "source": [
    "df_label2img.loc[df_label2img.label == '惊悚', 'fn'] = \\\n",
    "   'swan-46510_1280.png'\n",
    "df_label2img"
   ]
  },
  {
   "cell_type": "code",
   "execution_count": null,
   "metadata": {
    "id": "J9-yTy_SxMq5"
   },
   "outputs": [],
   "source": [
    "df_label2img.to_json(path_records + '/df_label2img.json')"
   ]
  },
  {
   "cell_type": "code",
   "execution_count": null,
   "metadata": {
    "id": "U1J94Lob1ZTs"
   },
   "outputs": [],
   "source": [
    "id2label_time = {0: '古代', 1: '当代', 2: '现代', 3: '近代'}\n",
    "\n",
    "id2label_genre = {0: '传奇', 1: '传记', 2: '其它', 3: '军旅', 4: '农村',\n",
    "                  5: '宫廷', 6: '武打',  7: '涉案',   8: '神话',  9: '科幻',\n",
    "                  10: '都市',  11: '青少',  12: '革命'\n",
    "                 }\n",
    "d_img_labels = {}\n",
    "for t in id2label_time.values():\n",
    "  for g in id2label_genre.values():\n",
    "    d_img_labels[(t, g)] = None\n",
    "d_img_labels.keys()"
   ]
  },
  {
   "cell_type": "code",
   "execution_count": null,
   "metadata": {
    "colab": {
     "background_save": true,
     "base_uri": "https://localhost:8080/",
     "height": 1000,
     "output_embedded_package_id": "1Vu_2BnBdhcVK6CZ5KMRXZl9antRgUNHK"
    },
    "executionInfo": {
     "elapsed": 17630,
     "status": "ok",
     "timestamp": 1635707311318,
     "user": {
      "displayName": "Xu Vee",
      "photoUrl": "https://lh3.googleusercontent.com/a-/AOh14GjNTzTx2PmIBbypp7-eWIRwMo4-I9DLyTz70KE9_g=s64",
      "userId": "12955926615284697296"
     },
     "user_tz": 420
    },
    "id": "Qqpl-04axZpu",
    "outputId": "d52d4120-c248-44c6-9cb4-741574c2422d"
   },
   "outputs": [
    {
     "data": {
      "text/plain": [
       "Output hidden; open in https://colab.research.google.com to view."
      ]
     },
     "metadata": {},
     "output_type": "display_data"
    }
   ],
   "source": [
    "from IPython.display import Image as Img\n",
    "from PIL import Image as pil\n",
    "\n",
    "path_posters = '/content/drive/MyDrive/Github/Article/img/posters'\n",
    "path_icon = '/content/drive/MyDrive/Github/Article/img/genre_icon'\n",
    "\n",
    "#df_label2image.to_json(path_records + '/df_label2image.json')\n",
    "df_label2image = pd.read_json(path_records + '/df_label2image.json')\n",
    "\n",
    "for i, row in df_label2img.iterrows():\n",
    "  image = pil.open(path_icon + '/' + row['fn'])\n",
    "  #image.thumbnail([300, sys.maxsize], pil.ANTIALIAS)\n",
    "  #image.save(path_posters + '/' + row['img_poster'], format='png')\n",
    "  display(Img(path_icon + '/' + row['fn'], width=300))"
   ]
  },
  {
   "cell_type": "markdown",
   "metadata": {
    "id": "sg6D5gPOTwMl"
   },
   "source": [
    "# [7] Generate Article"
   ]
  },
  {
   "cell_type": "markdown",
   "metadata": {
    "id": "9IAfULeEUSMN"
   },
   "source": [
    "##[7.1] T1 标题：~2021-10-25新片上映预告~"
   ]
  },
  {
   "cell_type": "code",
   "execution_count": null,
   "metadata": {
    "colab": {
     "base_uri": "https://localhost:8080/",
     "height": 35
    },
    "executionInfo": {
     "elapsed": 203,
     "status": "ok",
     "timestamp": 1635707733191,
     "user": {
      "displayName": "Xu Vee",
      "photoUrl": "https://lh3.googleusercontent.com/a-/AOh14GjNTzTx2PmIBbypp7-eWIRwMo4-I9DLyTz70KE9_g=s64",
      "userId": "12955926615284697296"
     },
     "user_tz": 420
    },
    "id": "805VTazdVNyy",
    "outputId": "c95c956e-6cdb-4aeb-cb3a-9668f6379f7c"
   },
   "outputs": [
    {
     "data": {
      "application/vnd.google.colaboratory.intrinsic+json": {
       "type": "string"
      },
      "text/plain": [
       "'~2021-10-25新片上映预告~'"
      ]
     },
     "execution_count": 75,
     "metadata": {},
     "output_type": "execute_result"
    }
   ],
   "source": [
    "# Title\n",
    "T1 = '~{}新片上映预告~'.format(str_pubdate_latest)\n",
    "T1"
   ]
  },
  {
   "cell_type": "markdown",
   "metadata": {
    "id": "wfCYJEVgWHQe"
   },
   "source": [
    "##[7.2] 2021年10月25日，又一批电影排期上映，从获取公映许可到排期上映平均6.3月，从备案到上映平均3.2年。其中，国产片有13部，进口片有2部。"
   ]
  },
  {
   "cell_type": "code",
   "execution_count": null,
   "metadata": {
    "id": "ckZ1LJjW9GP2"
   },
   "outputs": [],
   "source": [
    "df_view['备案立项号'].dropna()"
   ]
  },
  {
   "cell_type": "code",
   "execution_count": null,
   "metadata": {
    "colab": {
     "base_uri": "https://localhost:8080/"
    },
    "executionInfo": {
     "elapsed": 186,
     "status": "ok",
     "timestamp": 1635707781220,
     "user": {
      "displayName": "Xu Vee",
      "photoUrl": "https://lh3.googleusercontent.com/a-/AOh14GjNTzTx2PmIBbypp7-eWIRwMo4-I9DLyTz70KE9_g=s64",
      "userId": "12955926615284697296"
     },
     "user_tz": 420
    },
    "id": "UhRS7nLRVZWi",
    "outputId": "de17099b-c22d-40dd-b942-e29f0e5be46e"
   },
   "outputs": [
    {
     "name": "stdout",
     "output_type": "stream",
     "text": [
      "2021年10月25日，又一批电影排期上映，从获取公映许可到排期上映平均6.3个月，从备案到上映平均3.2年。其中，国产片有13部，进口片有2部，故事片有12部，纪录片有1部。国产片中，改过名字的有7部，换过第一出品单位的有4部，修改后才通过备案的有2部，题材排名前五的分别是家庭伦理、传记、革命、军旅和农村。瓜熟蒂落实属不易。\n"
     ]
    }
   ],
   "source": [
    "P1 = ''\n",
    "P1 +='{}年{}月{}日，'.format(dt_pubdate_latest.year, \n",
    "                            dt_pubdate_latest.month,\n",
    "                            dt_pubdate_latest.day)\n",
    "P1 += '又一批电影排期上映，'\n",
    "P1 += '从获取公映许可到排期上映平均{}个月，'.format(round(df_view['距离公映许可'].mean(),1))\n",
    "P1 += '从备案到上映平均{}年。'.format(round(df_view['备案至今'].mean(),1))\n",
    "\n",
    "P1 += '其中，国产片有{}部，进口片有{}部'.format(\n",
    "    df_view[df_view['国别/地区'] == '中国'].shape[0],\n",
    "    df_view[df_view['国别/地区'] != '中国'].shape[0])\n",
    "\n",
    "n_domestic = df_view['备案立项号'].dropna().str.contains('影剧备字').shape[0]\n",
    "n_domestic_story = df_view['备案立项号'].dropna().str.contains('影剧备字').sum()\n",
    "if n_domestic - n_domestic_story > 0:\n",
    "  P1 += '，故事片有{}部'.format(n_domestic_story)\n",
    "  n_domestic_documentary = \\\n",
    "    df_view['备案立项号'].dropna().str.contains('影纪备字').sum()\n",
    "  if n_domestic_documentary > 0:\n",
    "    P1 += '，纪录片有{}部'.format(n_domestic_documentary)\n",
    "\n",
    "P1 += '。'\n",
    "\n",
    "P1 += '国产片中，改过名字的有{}部，'.format(df_view.loc[df_view['备案名'] != '',:].shape[0])\n",
    "P1 += '换过第一出品单位的有{}部，'.format(df_view.loc[df_view['原备案单位'] != '',:].shape[0])\n",
    "P1 += '修改后才通过备案的有{}部，'.format(df_view.loc[df_view['是否修改'] == '是',:].shape[0])\n",
    "if df.shape[0] - df_view.shape[0] > 0:\n",
    "  P1 += '神秘到无迹可寻的有{}部，'.format(df.shape[0] - df_view.shape[0])\n",
    "P1 += '题材排名前五的分别是{}'.format('、'.join(df_genre_sorted['修正类型'][:4]))\n",
    "P1 += '和{}。'.format(df_genre_sorted['修正类型'][4:5].iloc[0])\n",
    "\n",
    "P1 += '瓜熟蒂落实属不易。'\n",
    "\n",
    "print(P1) "
   ]
  },
  {
   "cell_type": "markdown",
   "metadata": {
    "id": "zBlJf0bp90kP"
   },
   "source": [
    "## P1A 按类型划分"
   ]
  },
  {
   "cell_type": "code",
   "execution_count": null,
   "metadata": {
    "colab": {
     "base_uri": "https://localhost:8080/",
     "height": 411
    },
    "executionInfo": {
     "elapsed": 891,
     "status": "ok",
     "timestamp": 1635707761489,
     "user": {
      "displayName": "Xu Vee",
      "photoUrl": "https://lh3.googleusercontent.com/a-/AOh14GjNTzTx2PmIBbypp7-eWIRwMo4-I9DLyTz70KE9_g=s64",
      "userId": "12955926615284697296"
     },
     "user_tz": 420
    },
    "id": "zJnnq_g49z9X",
    "outputId": "20e384ba-5dd8-403c-ea8c-f672320cf5fb"
   },
   "outputs": [
    {
     "data": {
      "text/plain": [
       "<Figure size 1080x648 with 0 Axes>"
      ]
     },
     "metadata": {},
     "output_type": "display_data"
    },
    {
     "data": {
      "image/png": "[encoded data removed]",
      "text/plain": [
       "<Figure size 576x324 with 1 Axes>"
      ]
     },
     "metadata": {},
     "output_type": "display_data"
    }
   ],
   "source": [
    "df_genre_sorted = df.groupby('修正类型')['电影名称'].count().rename(\n",
    "    '数量').reset_index().sort_values('数量', ascending=False)\n",
    "df_genre_sorted['数量'] = df_genre_sorted['数量'].astype('int')\n",
    "\n",
    "plt.clf()\n",
    "plt.rcParams['figure.figsize'] = [8, 4.5]\n",
    "plt.rcParams['axes.facecolor'] = 'white'\n",
    "ax = df_genre_sorted.plot(\n",
    "    kind = 'bar',\n",
    "    grid = True,\n",
    "    fontsize = 22,\n",
    "    rot = 0,\n",
    "    color = ['violet'],\n",
    ")\n",
    "ax.set_title(\"按类型划分\",fontsize= 24, pad=20)\n",
    "ax.spines['top'].set_color('black')\n",
    "ax.spines['bottom'].set_color('black')\n",
    "ax.spines['left'].set_color('black')\n",
    "ax.spines['right'].set_color('black')\n",
    "ax.grid(color='gray', linestyle='-', linewidth=0.5)\n",
    "ax.set_xlabel('类型',fontsize= 18)\n",
    "ax.set_xticklabels(df_genre_sorted['修正类型'], fontsize= 14, rotation=45)\n",
    "ax.set_ylabel(\"数量\",fontsize= 18)\n",
    "ax.legend(fontsize=22)\n",
    "\n",
    "fp_plot_genre = path_img + '/df_Releases_zgdypw_genre_{}.png'.format(str_pubdate_latest)\n",
    "plt.savefig(fp_plot_genre, bbox_inches='tight')\n",
    "\n",
    "plt.show()"
   ]
  },
  {
   "cell_type": "markdown",
   "metadata": {
    "id": "OMyo7H05vDSE"
   },
   "source": [
    "##[7.3] P2 怀胎最久的影片是《荒野召唤1》，从备案到排期公映超过4.4年，名字从《荒野召唤之不忘初心》进化成了《荒野召唤1》。"
   ]
  },
  {
   "cell_type": "code",
   "execution_count": null,
   "metadata": {
    "colab": {
     "base_uri": "https://localhost:8080/"
    },
    "executionInfo": {
     "elapsed": 38,
     "status": "ok",
     "timestamp": 1635707311329,
     "user": {
      "displayName": "Xu Vee",
      "photoUrl": "https://lh3.googleusercontent.com/a-/AOh14GjNTzTx2PmIBbypp7-eWIRwMo4-I9DLyTz70KE9_g=s64",
      "userId": "12955926615284697296"
     },
     "user_tz": 420
    },
    "id": "-vDN-odpUK6V",
    "outputId": "9f776fa4-7259-4db3-800d-20f9e7dffdb7"
   },
   "outputs": [
    {
     "name": "stdout",
     "output_type": "stream",
     "text": [
      "怀胎最久的影片是《荒野召唤1》，从备案到排期公映超过4.4年，从获取公映许可到排期上映超过22.0个月，名字从《荒野召唤之不忘初心》进化成了《荒野召唤1》。\n"
     ]
    }
   ],
   "source": [
    "P2 = ''\n",
    "P2 += '怀胎最久的影片是《{}》，'.format(df_view.iloc[0]['电影名称'])\n",
    "P2 += '从备案到排期公映超过{}年，'.format(df_view.iloc[0]['备案至今'])\n",
    "P2 += '从获取公映许可到排期上映超过{}个月，'.format(\n",
    "    round(df_view.iloc[0]['距离公映许可'], 1))\n",
    "if df_view.iloc[0]['备案名'] != '':\n",
    "  P2 += '名字从《{}》进化成了《{}》'.format(df_view.iloc[0]['备案名'], df_view.iloc[0]['电影名称'])\n",
    "\n",
    "record_longest = df_view[df_view['电影名称'] == df_view.iloc[0]['电影名称']]\n",
    "if record_longest['原备案单位'].iloc[0] != '':\n",
    "  P2 += '，第一出品方历经了{}'.format('、'.join(record_longest['原备案单位']))\n",
    "  P2 += '最终由{}接手。'.format(df_view.iloc[0]['第一出品单位'])\n",
    "P2 += '。'\n",
    "\n",
    "print(P2)"
   ]
  },
  {
   "cell_type": "markdown",
   "metadata": {
    "id": "OBIEMJG5yHVJ"
   },
   "source": [
    "## [7.4] P3 同样坚守的还有..."
   ]
  },
  {
   "cell_type": "code",
   "execution_count": null,
   "metadata": {
    "colab": {
     "base_uri": "https://localhost:8080/"
    },
    "executionInfo": {
     "elapsed": 8,
     "status": "ok",
     "timestamp": 1635707311945,
     "user": {
      "displayName": "Xu Vee",
      "photoUrl": "https://lh3.googleusercontent.com/a-/AOh14GjNTzTx2PmIBbypp7-eWIRwMo4-I9DLyTz70KE9_g=s64",
      "userId": "12955926615284697296"
     },
     "user_tz": 420
    },
    "id": "jAW4-2unyMwe",
    "outputId": "d0156322-e419-46cc-f907-857631e315c8"
   },
   "outputs": [
    {
     "name": "stdout",
     "output_type": "stream",
     "text": [
      "坚守了3年以上的影片还有《东江风云》、《小镇故事多》、《越界》、《演员》、《世上只有妈妈好》、《铁马英歌》。\n"
     ]
    }
   ],
   "source": [
    "ls_name_3plus_year = df_view.loc[df_view['备案至今']>3, '电影名称'].tolist()[1:]\n",
    "ls_name_3plus_year = ['《'+ name + '》' for name in ls_name_3plus_year]\n",
    "P3 = \"\"\n",
    "P3 += '坚守了3年以上的影片还有{}。'.format('、'.join(ls_name_3plus_year))\n",
    "\n",
    "print(P3)"
   ]
  },
  {
   "cell_type": "markdown",
   "metadata": {
    "id": "3M7wztQm2_3u"
   },
   "source": [
    "## [7.5] P4 上市公司相关"
   ]
  },
  {
   "cell_type": "code",
   "execution_count": null,
   "metadata": {
    "colab": {
     "base_uri": "https://localhost:8080/"
    },
    "executionInfo": {
     "elapsed": 466,
     "status": "ok",
     "timestamp": 1635707314532,
     "user": {
      "displayName": "Xu Vee",
      "photoUrl": "https://lh3.googleusercontent.com/a-/AOh14GjNTzTx2PmIBbypp7-eWIRwMo4-I9DLyTz70KE9_g=s64",
      "userId": "12955926615284697296"
     },
     "user_tz": 420
    },
    "id": "iW5TdyUgfEqs",
    "outputId": "dd5c72df-8300-423f-c8c7-15825a4f09e8"
   },
   "outputs": [
    {
     "data": {
      "text/plain": [
       "array(['福建天禾影业有限公司', '广东俞氏伟业影视制作有限公司', '海宁柒久影业有限公司', '四川天府汉唐文化传媒有限公司',\n",
       "       nan, '巨奔（上海）影业有限公司', '浙江鹰美影业有限公司', '深圳市乐享影业有限公司', '长影集团有限责任公司',\n",
       "       '北京孔氏兄弟影业有限公司', '龙传龙影视传媒（重庆）有限公司', '大连世润影视制作传播有限公司'], dtype=object)"
      ]
     },
     "execution_count": 61,
     "metadata": {},
     "output_type": "execute_result"
    }
   ],
   "source": [
    "df_view['第一出品单位'].unique()"
   ]
  },
  {
   "cell_type": "code",
   "execution_count": null,
   "metadata": {
    "colab": {
     "base_uri": "https://localhost:8080/",
     "height": 154
    },
    "executionInfo": {
     "elapsed": 834,
     "status": "ok",
     "timestamp": 1635707315598,
     "user": {
      "displayName": "Xu Vee",
      "photoUrl": "https://lh3.googleusercontent.com/a-/AOh14GjNTzTx2PmIBbypp7-eWIRwMo4-I9DLyTz70KE9_g=s64",
      "userId": "12955926615284697296"
     },
     "user_tz": 420
    },
    "id": "_24Pz5oQucyU",
    "outputId": "e39ae5ae-2141-4959-9556-58e4e5909de0"
   },
   "outputs": [
    {
     "data": {
      "text/html": [
       "<div>\n",
       "<style scoped>\n",
       "    .dataframe tbody tr th:only-of-type {\n",
       "        vertical-align: middle;\n",
       "    }\n",
       "\n",
       "    .dataframe tbody tr th {\n",
       "        vertical-align: top;\n",
       "    }\n",
       "\n",
       "    .dataframe thead th {\n",
       "        text-align: right;\n",
       "    }\n",
       "</style>\n",
       "<table border=\"1\" class=\"dataframe\">\n",
       "  <thead>\n",
       "    <tr style=\"text-align: right;\">\n",
       "      <th></th>\n",
       "      <th>电影名称</th>\n",
       "      <th>pubtitle</th>\n",
       "      <th>pubdate</th>\n",
       "      <th>publink</th>\n",
       "      <th>上映日期</th>\n",
       "      <th>导演</th>\n",
       "      <th>主演</th>\n",
       "      <th>国别/地区</th>\n",
       "      <th>img_remote</th>\n",
       "      <th>备案名</th>\n",
       "      <th>序号</th>\n",
       "      <th>电影类别</th>\n",
       "      <th>编码</th>\n",
       "      <th>公映证号</th>\n",
       "      <th>第一出品单位</th>\n",
       "      <th>公示批次链接</th>\n",
       "      <th>公示名称</th>\n",
       "      <th>公示日期</th>\n",
       "      <th>编剧</th>\n",
       "      <th>梗概</th>\n",
       "      <th>备案公示日期</th>\n",
       "      <th>原备案单位</th>\n",
       "      <th>是否修改</th>\n",
       "      <th>备案立项号</th>\n",
       "      <th>备案至今</th>\n",
       "      <th>类型</th>\n",
       "      <th>年代</th>\n",
       "      <th>预测片名</th>\n",
       "      <th>kw</th>\n",
       "      <th>主要角色</th>\n",
       "      <th>修正类型</th>\n",
       "      <th>距离公映许可</th>\n",
       "    </tr>\n",
       "  </thead>\n",
       "  <tbody>\n",
       "  </tbody>\n",
       "</table>\n",
       "</div>"
      ],
      "text/plain": [
       "Empty DataFrame\n",
       "Columns: [电影名称, pubtitle, pubdate, publink, 上映日期, 导演, 主演, 国别/地区, img_remote, 备案名, 序号, 电影类别, 编码, 公映证号, 第一出品单位, 公示批次链接, 公示名称, 公示日期, 编剧, 梗概, 备案公示日期, 原备案单位, 是否修改, 备案立项号, 备案至今, 类型, 年代, 预测片名, kw, 主要角色, 修正类型, 距离公映许可]\n",
       "Index: []"
      ]
     },
     "execution_count": 62,
     "metadata": {},
     "output_type": "execute_result"
    }
   ],
   "source": [
    "# 本批次中与上市影视公司关联的项目有\n",
    "info_public_film_co = pd.read_csv('/content/drive/MyDrive/Github/Article/reference/info_public_film_co.csv', index_col=0, encoding='utf-8-sig')\n",
    "ls = info_public_film_co['公司简称'].apply(eval).sum()\n",
    "pat_public = '|'.join(ls)\n",
    "pat_public += '|阿里|腾讯|爱奇艺|英皇|寰亚|银都|美亚|大盛|儒意|灿星|横店|博纳|麦颂'\n",
    "df_focus = df_view.loc[\n",
    "    df_view['第一出品单位'].fillna('').str.contains(pat_public, regex=True)]\n",
    "df_focus"
   ]
  },
  {
   "cell_type": "code",
   "execution_count": null,
   "metadata": {
    "id": "Ssno3St6057f"
   },
   "outputs": [],
   "source": [
    "idx_to_keep = []\n",
    "df_focus_narrowed = df_focus[df_focus.index.isin(idx_to_keep)]"
   ]
  },
  {
   "cell_type": "code",
   "execution_count": null,
   "metadata": {
    "id": "lwZpLDUYteL2"
   },
   "outputs": [],
   "source": [
    "df_focus_narrowed"
   ]
  },
  {
   "cell_type": "code",
   "execution_count": null,
   "metadata": {
    "colab": {
     "base_uri": "https://localhost:8080/"
    },
    "executionInfo": {
     "elapsed": 257,
     "status": "ok",
     "timestamp": 1635707320722,
     "user": {
      "displayName": "Xu Vee",
      "photoUrl": "https://lh3.googleusercontent.com/a-/AOh14GjNTzTx2PmIBbypp7-eWIRwMo4-I9DLyTz70KE9_g=s64",
      "userId": "12955926615284697296"
     },
     "user_tz": 420
    },
    "id": "BGmrzfXJ0AfT",
    "outputId": "f7a5c4c7-923a-4abb-a489-e626eec426ff"
   },
   "outputs": [
    {
     "name": "stdout",
     "output_type": "stream",
     "text": [
      "国产片中，大数据分析识别出0部上市影视公司关联项目，两部进口片质量都很不错，具有较大的竞争力。\n"
     ]
    }
   ],
   "source": [
    "P4 = ''\n",
    "P4 += '国产片中，大数据分析识别出{}部上市影视公司关联项目'.format(df_focus.shape[0])\n",
    "if df_focus.shape[0] > 0:\n",
    "  P4 += '，占比{}%。'.format(round( (df_focus.shape[0]/(df_view.shape[0]-1)*100), 2 ) )\n",
    "  P4 += '结合题材与出品方实力，慷田AI聚焦关注《{}》'.format(\n",
    "      '》、《'.join(df_focus_narrowed['片名']))\n",
    "  P4 += '，题材类型包括了传记与救灾。'.format(\n",
    "      '、'.join(df_focus_narrowed.类型.unique()))\n",
    "P4 += '，两部进口片质量都很不错，具有较大的竞争力。'\n",
    "\n",
    "print(P4)"
   ]
  },
  {
   "cell_type": "markdown",
   "metadata": {
    "id": "FgBr8uj4KyKo"
   },
   "source": [
    "## 热度 [WIP]"
   ]
  },
  {
   "cell_type": "code",
   "execution_count": null,
   "metadata": {
    "id": "L2k4-EmFKx57"
   },
   "outputs": [],
   "source": [
    "# Update Maoyan Releases - Run only if necessary\n",
    "path_maoyan = '/content/drive/MyDrive/Github/Content/sources/maoyan'\n",
    "os.chdir(path_maoyan)\n",
    "\n",
    "#%load_ext autoreload\n",
    "%reload_ext autoreload\n",
    "from maoyan import MAOYAN\n",
    "maoyan = MAOYAN()"
   ]
  },
  {
   "cell_type": "code",
   "execution_count": null,
   "metadata": {
    "colab": {
     "base_uri": "https://localhost:8080/"
    },
    "executionInfo": {
     "elapsed": 132,
     "status": "ok",
     "timestamp": 1635630738083,
     "user": {
      "displayName": "Xu Vee",
      "photoUrl": "https://lh3.googleusercontent.com/a-/AOh14GjNTzTx2PmIBbypp7-eWIRwMo4-I9DLyTz70KE9_g=s64",
      "userId": "12955926615284697296"
     },
     "user_tz": 420
    },
    "id": "OvyLxHl4MCii",
    "outputId": "e6ddd860-f58b-41fa-8fb7-6ad09ce891f8"
   },
   "outputs": [
    {
     "data": {
      "text/plain": [
       "array(['乌海', '我是监护⼈', '世上只有妈妈好', '东江风云', '演员', '信者', '铁马英歌', '荒野召唤1',\n",
       "       '⾎战狙击岭', '温暖的桥', '小镇故事多', '越界', '入殓师', '007：无暇赴死', '青春作伴好还乡'],\n",
       "      dtype=object)"
      ]
     },
     "execution_count": 474,
     "metadata": {},
     "output_type": "execute_result"
    }
   ],
   "source": [
    "df_view['电影名称'].to_numpy()"
   ]
  },
  {
   "cell_type": "markdown",
   "metadata": {
    "id": "3tqkjENZB5yl"
   },
   "source": [
    "##[7.6] P5 按影片展示词云图"
   ]
  },
  {
   "cell_type": "code",
   "execution_count": null,
   "metadata": {
    "id": "_OH0aC3SlF1A"
   },
   "outputs": [],
   "source": [
    "df_label2img"
   ]
  },
  {
   "cell_type": "code",
   "execution_count": null,
   "metadata": {
    "id": "QZbqyLLXkdu0"
   },
   "outputs": [],
   "source": [
    "%%capture\n",
    "df_view['src_img'] = None\n",
    "df_view['tgt_img'] = None"
   ]
  },
  {
   "cell_type": "code",
   "execution_count": null,
   "metadata": {
    "id": "IJieiUTX-1Q7"
   },
   "outputs": [],
   "source": [
    "genre_count = df_view.groupby('修正类型')['电影名称'].count(\n",
    "    ).rename('类型数量').reset_index()\n",
    "df_view = df_view.merge(genre_count, on='修正类型', how='left')\n",
    "df_view = df_view.sort_values(['类型数量','上映日期'], ascending=[False, True])\n",
    "df_view"
   ]
  },
  {
   "cell_type": "code",
   "execution_count": null,
   "metadata": {
    "colab": {
     "base_uri": "https://localhost:8080/"
    },
    "executionInfo": {
     "elapsed": 168,
     "status": "ok",
     "timestamp": 1635707796140,
     "user": {
      "displayName": "Xu Vee",
      "photoUrl": "https://lh3.googleusercontent.com/a-/AOh14GjNTzTx2PmIBbypp7-eWIRwMo4-I9DLyTz70KE9_g=s64",
      "userId": "12955926615284697296"
     },
     "user_tz": 420
    },
    "id": "Xo3KUK1VBW4F",
    "outputId": "15e39cb2-96cf-4a37-eff8-d358675dd3e0"
   },
   "outputs": [
    {
     "name": "stdout",
     "output_type": "stream",
     "text": [
      "\n",
      "看图识新片。\n"
     ]
    }
   ],
   "source": [
    "P5 = ''\n",
    "P5 = '\\n看图识新片。'\n",
    "\n",
    "print(P5)"
   ]
  },
  {
   "cell_type": "code",
   "execution_count": null,
   "metadata": {
    "id": "1E7Ledv0uWET"
   },
   "outputs": [],
   "source": [
    "df_view['上映日期']"
   ]
  },
  {
   "cell_type": "code",
   "execution_count": null,
   "metadata": {
    "colab": {
     "base_uri": "https://localhost:8080/",
     "height": 1000
    },
    "executionInfo": {
     "elapsed": 150800,
     "status": "ok",
     "timestamp": 1635707502132,
     "user": {
      "displayName": "Xu Vee",
      "photoUrl": "https://lh3.googleusercontent.com/a-/AOh14GjNTzTx2PmIBbypp7-eWIRwMo4-I9DLyTz70KE9_g=s64",
      "userId": "12955926615284697296"
     },
     "user_tz": 420
    },
    "id": "qlSSbDP9kHVW",
    "outputId": "143acbf2-e357-4066-af6a-adedc139277a"
   },
   "outputs": [],
   "source": [
    "idx_actor = df_view['主演'].dropna().index\n",
    "\n",
    "for i in df_view.drop_duplicates('电影名称').index:\n",
    "  ls = [df_view.loc[i, '电影名称']] * 20\n",
    "  ls += [df_view.loc[i, '预测片名']] *6\n",
    "  ls += df_view.loc[i, '主要角色']*3\n",
    "  if i in idx_actor:\n",
    "    ls += df_view.loc[i, '主演']*3\n",
    "  ls += [df_view.loc[i, '修正类型']] *3\n",
    "  ls += [df_view.loc[i, '年代']]*2\n",
    "  ls += df_view.loc[i, 'kw']\n",
    "\n",
    "  if not pd.isna([df_view.loc[i, '第一出品单位']]):\n",
    "    ls += [df_view.loc[i, '第一出品单位']]\n",
    "  img_fn = df_view.loc[i, 'src_img']\n",
    "  if not img_fn:\n",
    "    img_fn = df_label2img.loc[\n",
    "        df_label2img['label'] == df_view.loc[i, '修正类型'],\n",
    "        'fn'\n",
    "    ].iloc[0]\n",
    "  txt = '《{}》'.format(df_view.loc[i, '电影名称'])\n",
    "  txt += \"\\n上映日期：{}\".format(str(df_view.loc[i, '上映日期']).split(' ')[0])\n",
    "  txt += '\\n获得公映许可至今{}个月'.format(df_view.loc[i, '距离公映许可'])\n",
    "  txt += '，备案至今超过{}年'.format(df_view.loc[i, '备案至今'])\n",
    "\n",
    "  if df_view.loc[i, '备案名'] != '':\n",
    "    txt += '\\n原备案片名：《{}》'.format(df_view.loc[i, '备案名'])\n",
    "\n",
    "  txt += '\\n编剧：{}'.format(df_view.loc[i, '编剧'])\n",
    "  #txt += '\\n类型：{}'.format(df_view.loc[i, '类型'])\n",
    "\n",
    "  txt += '\\n第一出品单位：{}'.format(df_view.loc[i, '第一出品单位'])\n",
    "  if df_view.loc[i, '原备案单位'] != '':\n",
    "    txt +=  '\\n原备案单位：{}'.format(df_view.loc[i, '原备案单位'])\n",
    "  \n",
    "  print(txt)\n",
    "  #txt += '{}\\n'.format(df_view.loc[i, '梗概'])\n",
    "  fp_img = path_img + '/genre_icon/{}'.format(img_fn)\n",
    "  fp_mask = path_img + '/genre_icon/{}'.format('mask_' + img_fn)\n",
    "  #fp_img = path_img + '/genre_icon/{}'.format('psychedelic-1084082_960_720.jpg')\n",
    "  fp_generated_img = utils.generate_word_image(ls, \n",
    "                                               fp_img, \n",
    "                                               fp_mask,\n",
    "                                               fp_prefix='ZGDYPW_Release_Preview',\n",
    "                                               fp_suffix=str_pubdate_latest,\n",
    "                                               img_width=400,\n",
    "                                               )\n",
    "  #display(Img(fp_generated_img, width=400))\n",
    "  df_view.loc[i, 'tgt_img'] = fp_generated_img"
   ]
  },
  {
   "cell_type": "code",
   "execution_count": null,
   "metadata": {
    "colab": {
     "base_uri": "https://localhost:8080/"
    },
    "executionInfo": {
     "elapsed": 135,
     "status": "ok",
     "timestamp": 1635660315568,
     "user": {
      "displayName": "Xu Vee",
      "photoUrl": "https://lh3.googleusercontent.com/a-/AOh14GjNTzTx2PmIBbypp7-eWIRwMo4-I9DLyTz70KE9_g=s64",
      "userId": "12955926615284697296"
     },
     "user_tz": 420
    },
    "id": "erQFn3HSB2bS",
    "outputId": "031a8823-d59a-4fe5-ddaa-4fe6163fe538"
   },
   "outputs": [
    {
     "name": "stdout",
     "output_type": "stream",
     "text": [
      "看图了解新片。\n"
     ]
    }
   ],
   "source": [
    "P5 = ''\n",
    "P5 = '看图了解新片。'\n",
    "\n",
    "print(P5)"
   ]
  },
  {
   "cell_type": "markdown",
   "metadata": {
    "id": "RtweQSFT68dN"
   },
   "source": [
    "## [7.7] 指向电影官网"
   ]
  },
  {
   "cell_type": "code",
   "execution_count": null,
   "metadata": {
    "colab": {
     "base_uri": "https://localhost:8080/"
    },
    "executionInfo": {
     "elapsed": 185,
     "status": "ok",
     "timestamp": 1635708115358,
     "user": {
      "displayName": "Xu Vee",
      "photoUrl": "https://lh3.googleusercontent.com/a-/AOh14GjNTzTx2PmIBbypp7-eWIRwMo4-I9DLyTz70KE9_g=s64",
      "userId": "12955926615284697296"
     },
     "user_tz": 420
    },
    "id": "6mahv1NyfF-B",
    "outputId": "8fb6469c-6af4-4ac4-9a51-e3e6fb7c9dfd"
   },
   "outputs": [
    {
     "name": "stdout",
     "output_type": "stream",
     "text": [
      "\n",
      "\n",
      "慷田AI结合自主调研及多方大数据比对，通过分析、建模，提炼关键信息。备案与公映许可证信息来自中国国家电影局 China Film Administration, 官方网址\n",
      "http://www.chinafilm.gov.cn/chinafilm 。\n",
      "公映许可证公示信息来自中国电影数据信息网 China Movie Database, 官方网址\n",
      "https://www.zgdypw.cn/ 。\n",
      "\n"
     ]
    }
   ],
   "source": [
    "#####\n",
    "E1 = '\\n\\n'\n",
    "E1 += ''\n",
    "E1 += '慷田AI结合自主调研及多方大数据比对，通过分析、建模，提炼关键信息。'\n",
    "E1 += '备案与公映许可证信息来自中国国家电影局 China Film Administration, 官方网址\\n'\n",
    "E1 += 'http://www.chinafilm.gov.cn/chinafilm 。\\n'\n",
    "E1 += '公映许可证公示信息来自中国电影数据信息网 China Movie Database, 官方网址\\n'\n",
    "E1 += 'https://www.zgdypw.cn/ 。\\n'\n",
    "print(E1)"
   ]
  },
  {
   "cell_type": "markdown",
   "metadata": {
    "id": "WWpsohsnd_Gr"
   },
   "source": [
    "## [8.9] E2\\E3, Pointer Text"
   ]
  },
  {
   "cell_type": "code",
   "execution_count": null,
   "metadata": {
    "id": "xtB8m_VxeDIc"
   },
   "outputs": [],
   "source": [
    "E2 = '点击阅读原文查看本期ContentAI新片预览详表。'\n",
    "E3 = '点击阅读原文查看本期ContentAI新片预览。'"
   ]
  },
  {
   "cell_type": "markdown",
   "metadata": {
    "id": "ia_oAlyeVmmz"
   },
   "source": [
    "## [7.8] S0 生成摘要"
   ]
  },
  {
   "cell_type": "code",
   "execution_count": null,
   "metadata": {
    "colab": {
     "base_uri": "https://localhost:8080/"
    },
    "executionInfo": {
     "elapsed": 148,
     "status": "ok",
     "timestamp": 1635707752002,
     "user": {
      "displayName": "Xu Vee",
      "photoUrl": "https://lh3.googleusercontent.com/a-/AOh14GjNTzTx2PmIBbypp7-eWIRwMo4-I9DLyTz70KE9_g=s64",
      "userId": "12955926615284697296"
     },
     "user_tz": 420
    },
    "id": "RT1YFvWuVmY2",
    "outputId": "3b2cfada-3aec-4694-fa28-1232c49b7ea6"
   },
   "outputs": [
    {
     "name": "stdout",
     "output_type": "stream",
     "text": [
      "近期预计上画新片15部，其中国产片13部、进口片2部，故事片12部、纪录片1部。国产片中，改名的7部，换主的4部，从获取公映许可到确定排期平均3.0个月，从备案到排期平均超过2.4年。ContentAI重点关注《入殓师》、《007：无暇赴死》、《乌海》。\n"
     ]
    }
   ],
   "source": [
    "S0 = '近期预计上画新片{}部，'.format(df_rel_curr.shape[0])\n",
    "S0 += '其中国产片{}部、进口片{}部，'.format(\n",
    "    df_view[df_view['国别/地区'] == '中国'].shape[0],\n",
    "    df_view[df_view['国别/地区'] != '中国'].shape[0])\n",
    "\n",
    "n_domestic = df_view['备案立项号'].dropna().str.contains('影剧备字').shape[0]\n",
    "n_domestic_story = df_view['备案立项号'].dropna().str.contains('影剧备字').sum()\n",
    "if n_domestic - n_domestic_story > 0:\n",
    "  S0 += '故事片{}部、'.format(n_domestic_story)\n",
    "  n_domestic_documentary = \\\n",
    "    df_view['备案立项号'].dropna().str.contains('影纪备字').sum()\n",
    "  if n_domestic_documentary > 0:\n",
    "    S0 += '纪录片{}部。'.format(n_domestic_documentary)\n",
    "\n",
    "S0 += '国产片中，改名的{}部，'.format(df_view.loc[df_view['备案名'] != '',:].shape[0])\n",
    "S0 += '换主的{}部，'.format(df_view.loc[df_view['原备案单位'] != '',:].shape[0])\n",
    "\n",
    "S0 += '从获取公映许可到确定排期平均{}个月，'.format(\n",
    "    round(df_view.iloc[0]['距离公映许可'], 1))\n",
    "S0 += '从备案到排期平均超过{}年。'.format(df_view.iloc[0]['备案至今'])\n",
    "\n",
    "S0 += 'ContentAI重点关注《{}》'.format(\n",
    "    '》、《'.join(df_view.loc[df_view['国别/地区'] != '中国', '电影名称'].to_list())\n",
    ")\n",
    "\n",
    "S0 += '、《乌海》。'\n",
    "\n",
    "print(S0)"
   ]
  },
  {
   "cell_type": "markdown",
   "metadata": {
    "id": "b0hQfS-dT-Od"
   },
   "source": [
    "# [5] Output Word Doc"
   ]
  },
  {
   "cell_type": "markdown",
   "metadata": {
    "id": "iGIhHvxfd6-H"
   },
   "source": [
    "## [5.1] Install Docx Lib"
   ]
  },
  {
   "cell_type": "code",
   "execution_count": null,
   "metadata": {
    "id": "TBVC5nBXUI7w"
   },
   "outputs": [],
   "source": [
    "%%capture\n",
    "!pip install python-docx\n",
    "!pip install lxml\n",
    "from docx import Document\n",
    "from docx.shared import Inches\n",
    "from docx.oxml.ns import qn\n",
    "#from docx.text.parargaph import Paragraph\n",
    "\n",
    "from docx.shared import Pt"
   ]
  },
  {
   "cell_type": "markdown",
   "metadata": {
    "id": "vH5OMz53d_t3"
   },
   "source": [
    "## [5.2] Write Preview to docx and download"
   ]
  },
  {
   "cell_type": "code",
   "execution_count": null,
   "metadata": {
    "id": "nnE-b-00d32G"
   },
   "outputs": [],
   "source": [
    "path_doc = '/content/drive/MyDrive/Github/Article/docx'\n",
    "path_img = '/content/drive/MyDrive/Github/Article/img'\n",
    "\n",
    "doc = Document()\n",
    "\n",
    "# Set Document Font \n",
    "doc.styles['Normal'].font.name = '微软雅黑'\n",
    "r = doc.styles['Normal']._element\n",
    "r.rPr.rFonts.set(qn('w:eastAsia'), '微软雅黑')\n",
    "\n",
    "# Set Title\n",
    "doc.core_properties.title = 'ZGDYPW_Release_Preview_' + str_pubdate_latest\n",
    "\n",
    "doc.add_heading(T1, 0)\n",
    "\n",
    "p = doc.add_paragraph(S0, style='Intense Quote')\n",
    "\n",
    "doc.add_paragraph(P1)\n",
    "doc.add_picture(fp_plot_genre, width =Inches(6))\n",
    "doc.add_paragraph(P2)\n",
    "doc.add_paragraph(P3)\n",
    "doc.add_paragraph(P4)\n",
    "\n",
    "doc.add_paragraph(P5)\n",
    "j = 1\n",
    "for i in df_view.drop_duplicates('电影名称').index:\n",
    "\n",
    "  txt = '《{}》'.format(df_view.loc[i, '电影名称'])\n",
    "  txt += \"\\n上映日期：{}\".format(str(df_view.loc[i, '上映日期']).split(' ')[0])\n",
    "  if df_view.loc[i, '国别/地区'] == '中国':\n",
    "    if pd.isna(df_view.loc[i, '距离公映许可']):\n",
    "      txt += '\\n已获得公映许可，尚未公示'\n",
    "    else:\n",
    "      txt += '\\n获得公映许可至今{}个月'.format(df_view.loc[i, '距离公映许可'])\n",
    "    txt += '，备案至今超过{}年'.format(df_view.loc[i, '备案至今'])\n",
    "\n",
    "  if df_view.loc[i, '备案名'] != '' and (not pd.isna(df_view.loc[i, '备案名'])):\n",
    "    txt += '\\n原备案片名：《{}》'.format(df_view.loc[i, '备案名'])\n",
    "  \n",
    "  txt += '\\n导演：{}'.format(df_view.loc[i, '导演'])\n",
    "  if not pd.isna(df_view.loc[i, '编剧']):\n",
    "    txt += '\\n编剧：{}'.format(df_view.loc[i, '编剧'])\n",
    "  txt += '\\n主演：{}'.format(df_view.loc[i, '主演']) \n",
    "\n",
    "\n",
    "  if len(df_view.loc[i, '主要角色']) > 0:\n",
    "    txt += '\\n主要角色：{}'.format('、'.join(df_view.loc[i, '主要角色']))\n",
    "  txt += '\\n类型：{}'.format(df_view.loc[i, '修正类型'])\n",
    "  txt += '\\n国别/地区：{}'.format(df_view.loc[i, '国别/地区'])\n",
    "\n",
    "  if not pd.isna(df_view.loc[i, '第一出品单位']):\n",
    "    txt += '\\n第一出品单位：{}'.format(df_view.loc[i, '第一出品单位'])\n",
    "  if (df_view.loc[i, '原备案单位'] != '') and \\\n",
    "    (not pd.isna(df_view.loc[i, '原备案单位'])):\n",
    "    txt +=  '\\n原备案单位：{}'.format(df_view.loc[i, '原备案单位'])\n",
    "\n",
    "  doc.add_paragraph(\"[{}]_____________\".format(j))\n",
    "  j += 1\n",
    "  fp_poster = path_zgdypw+ '/img/' + df_view.loc[i, 'img_remote'].split('/')[-1]\n",
    "  doc.add_picture(fp_poster, width =Inches(4))\n",
    "  fp_img = df_view.loc[i, 'tgt_img']\n",
    "  doc.add_paragraph(txt)\n",
    "  doc.add_picture(fp_img, width =Inches(4))\n",
    "  doc.add_paragraph('\\n')\n",
    "\n",
    "doc.add_paragraph(E1)\n",
    "doc.add_paragraph(E2)\n",
    "\n",
    "doc.save(path_doc + '/ZGDYPW_Release_Preview_' + str_pubdate_latest +'.docx')"
   ]
  },
  {
   "cell_type": "code",
   "execution_count": null,
   "metadata": {
    "colab": {
     "base_uri": "https://localhost:8080/",
     "height": 17
    },
    "executionInfo": {
     "elapsed": 244,
     "status": "ok",
     "timestamp": 1635711774748,
     "user": {
      "displayName": "Xu Vee",
      "photoUrl": "https://lh3.googleusercontent.com/a-/AOh14GjNTzTx2PmIBbypp7-eWIRwMo4-I9DLyTz70KE9_g=s64",
      "userId": "12955926615284697296"
     },
     "user_tz": 420
    },
    "id": "a_zeeJwHehRh",
    "outputId": "b1e31254-cb9f-4db1-fb5a-e0ee2dfb62fb"
   },
   "outputs": [
    {
     "data": {
      "application/javascript": [
       "\n",
       "    async function download(id, filename, size) {\n",
       "      if (!google.colab.kernel.accessAllowed) {\n",
       "        return;\n",
       "      }\n",
       "      const div = document.createElement('div');\n",
       "      const label = document.createElement('label');\n",
       "      label.textContent = `Downloading \"${filename}\": `;\n",
       "      div.appendChild(label);\n",
       "      const progress = document.createElement('progress');\n",
       "      progress.max = size;\n",
       "      div.appendChild(progress);\n",
       "      document.body.appendChild(div);\n",
       "\n",
       "      const buffers = [];\n",
       "      let downloaded = 0;\n",
       "\n",
       "      const channel = await google.colab.kernel.comms.open(id);\n",
       "      // Send a message to notify the kernel that we're ready.\n",
       "      channel.send({})\n",
       "\n",
       "      for await (const message of channel.messages) {\n",
       "        // Send a message to notify the kernel that we're ready.\n",
       "        channel.send({})\n",
       "        if (message.buffers) {\n",
       "          for (const buffer of message.buffers) {\n",
       "            buffers.push(buffer);\n",
       "            downloaded += buffer.byteLength;\n",
       "            progress.value = downloaded;\n",
       "          }\n",
       "        }\n",
       "      }\n",
       "      const blob = new Blob(buffers, {type: 'application/binary'});\n",
       "      const a = document.createElement('a');\n",
       "      a.href = window.URL.createObjectURL(blob);\n",
       "      a.download = filename;\n",
       "      div.appendChild(a);\n",
       "      a.click();\n",
       "      div.remove();\n",
       "    }\n",
       "  "
      ],
      "text/plain": [
       "<IPython.core.display.Javascript object>"
      ]
     },
     "metadata": {},
     "output_type": "display_data"
    },
    {
     "data": {
      "application/javascript": [
       "download(\"download_000a89c9-9fdc-413b-9e9d-997460569523\", \"ZGDYPW_Release_Preview_2021-10-25.docx\", 9590965)"
      ],
      "text/plain": [
       "<IPython.core.display.Javascript object>"
      ]
     },
     "metadata": {},
     "output_type": "display_data"
    }
   ],
   "source": [
    "# Download Document\n",
    "from google.colab import files\n",
    "\n",
    "files.download(\n",
    "    path_doc + '/ZGDYPW_Release_Preview_' + str_pubdate_latest +'.docx')"
   ]
  },
  {
   "cell_type": "code",
   "execution_count": null,
   "metadata": {
    "id": "cCc230GiDFK4"
   },
   "outputs": [],
   "source": [
    "HTML(df_view[['梗概']].to_html())"
   ]
  },
  {
   "cell_type": "markdown",
   "metadata": {
    "id": "Ylemq1ataIKv"
   },
   "source": [
    "## [5.3] Write Table to docx and download"
   ]
  },
  {
   "cell_type": "code",
   "execution_count": 180,
   "metadata": {
    "executionInfo": {
     "elapsed": 454,
     "status": "ok",
     "timestamp": 1635914371416,
     "user": {
      "displayName": "Xu Vee",
      "photoUrl": "https://lh3.googleusercontent.com/a-/AOh14GjNTzTx2PmIBbypp7-eWIRwMo4-I9DLyTz70KE9_g=s64",
      "userId": "12955926615284697296"
     },
     "user_tz": 420
    },
    "id": "4MFx5aaVcQIq"
   },
   "outputs": [],
   "source": [
    "path_doc = '/content/drive/MyDrive/Github/Article/docx'\n",
    "\n",
    "doc = Document()\n",
    "\n",
    "# Set Document Font \n",
    "doc.styles['Normal'].font.name = '微软雅黑'\n",
    "r = doc.styles['Normal']._element\n",
    "r.rPr.rFonts.set(qn('w:eastAsia'), '微软雅黑')\n",
    "\n",
    "# Set Title\n",
    "doc.core_properties.title = 'ZGDYPW_Release_s_Table_' + str_pubdate_latest\n",
    "\n",
    "doc.add_heading('详表：' + T1, 0)\n",
    "\n",
    "p = doc.add_paragraph(S0, style='Intense Quote')\n",
    "\n",
    "table = doc.add_table(rows=1, cols=1, style='Light List Accent 4')\n",
    "j = 1\n",
    "for i, row in df_view.iterrows():\n",
    "  row_cells = table.add_row().cells\n",
    "  row_cells[0].text = '[{}] 《{}》'.format(j ,row['电影名称'])\n",
    "  j += 1\n",
    "\n",
    "  # 上映日期\n",
    "  row_cells = table.add_row().cells\n",
    "  row_cells[0].text = '上映日期：《{}》'.format(str(row['上映日期']).split(' ')[0]) \n",
    "\n",
    "  # 许可至今，备案至今\n",
    "  if row['国别/地区'] == '中国':\n",
    "    row_cells = table.add_row().cells\n",
    "    if pd.isna(row['距离公映许可']):\n",
    "      row_cells[0].text = '已获得公映许可，尚未公示'\n",
    "    else:\n",
    "      row_cells[0].text = '获得公映许可至今{}个月'.format(row['距离公映许可'])\n",
    "      row_cells[0].text += '，备案至今超过{}年'.format(row['备案至今'])\n",
    "\n",
    "  # 改名\n",
    "  if row['备案名'] != '' and (not pd.isna(row['备案名'])):\n",
    "    row_cells = table.add_row().cells\n",
    "    row_cells[0].text = '原备案名：《{}》'.format(row['备案名'])\n",
    "\n",
    "  # 导演\n",
    "  if row['导演'] != '' and (not pd.isna(row['导演'])):\n",
    "    row_cells = table.add_row().cells\n",
    "    row_cells[0].text = '导演：《{}》'.format(row['导演'])\n",
    "  \n",
    "  # 编剧\n",
    "  if not pd.isna(row['编剧']):\n",
    "    row_cells = table.add_row().cells\n",
    "    row_cells[0].text = '编剧: ' + row['编剧'] \n",
    "\n",
    "  # 主演\n",
    "  if not pd.isna(row['主演']):\n",
    "    row_cells = table.add_row().cells\n",
    "    row_cells[0].text = '主演: ' + row['主演'] \n",
    "\n",
    "  # 主要角色\n",
    "  if len(row['主要角色']) > 0:\n",
    "    row_cells = table.add_row().cells\n",
    "    row_cells[0].text = '主要角色：{}'.format('、'.join(row['主要角色']))\n",
    "\n",
    "  # 类型\n",
    "  if not pd.isna(row['修正类型']):\n",
    "    row_cells = table.add_row().cells\n",
    "    row_cells[0].text = '类型: ' + row['修正类型']\n",
    "\n",
    "  # 国别/地区\n",
    "  if not pd.isna(row['国别/地区']):\n",
    "    row_cells = table.add_row().cells\n",
    "    row_cells[0].text = '国别/地区: ' + row['国别/地区']\n",
    "\n",
    "  # 出品方变更\n",
    "  if not pd.isna(row['第一出品单位']):\n",
    "    row_cells = table.add_row().cells\n",
    "    row_cells[0].text ='第一出品单位：{}'.format(row['第一出品单位'])\n",
    "  if (row['原备案单位'] != '') and (not pd.isna(row['原备案单位'])):\n",
    "    row_cells = table.add_row().cells\n",
    "    row_cells[0].text =  '原备案单位：{}'.format(row['原备案单位'])\n",
    "\n",
    "  #梗概\n",
    "  row_cells = table.add_row().cells\n",
    "  row_cells[0].text = row['梗概'].lstrip('\\w+')\n",
    "\n",
    "  row_cells = table.add_row().cells\n",
    "  row_cells[0].text = ''\n",
    "\n",
    "doc.add_paragraph(E1)\n",
    "doc.add_paragraph(E3)\n",
    "\n",
    "doc.save('/ZGDYPW_Release_Table_' + str_pubdate_latest +'.docx')"
   ]
  },
  {
   "cell_type": "code",
   "execution_count": 181,
   "metadata": {
    "colab": {
     "base_uri": "https://localhost:8080/",
     "height": 17
    },
    "executionInfo": {
     "elapsed": 199,
     "status": "ok",
     "timestamp": 1635914375155,
     "user": {
      "displayName": "Xu Vee",
      "photoUrl": "https://lh3.googleusercontent.com/a-/AOh14GjNTzTx2PmIBbypp7-eWIRwMo4-I9DLyTz70KE9_g=s64",
      "userId": "12955926615284697296"
     },
     "user_tz": 420
    },
    "id": "XbuufBfddnzP",
    "outputId": "f7472e13-9bdb-489d-83be-b42a75669f7b"
   },
   "outputs": [
    {
     "data": {
      "application/javascript": [
       "\n",
       "    async function download(id, filename, size) {\n",
       "      if (!google.colab.kernel.accessAllowed) {\n",
       "        return;\n",
       "      }\n",
       "      const div = document.createElement('div');\n",
       "      const label = document.createElement('label');\n",
       "      label.textContent = `Downloading \"${filename}\": `;\n",
       "      div.appendChild(label);\n",
       "      const progress = document.createElement('progress');\n",
       "      progress.max = size;\n",
       "      div.appendChild(progress);\n",
       "      document.body.appendChild(div);\n",
       "\n",
       "      const buffers = [];\n",
       "      let downloaded = 0;\n",
       "\n",
       "      const channel = await google.colab.kernel.comms.open(id);\n",
       "      // Send a message to notify the kernel that we're ready.\n",
       "      channel.send({})\n",
       "\n",
       "      for await (const message of channel.messages) {\n",
       "        // Send a message to notify the kernel that we're ready.\n",
       "        channel.send({})\n",
       "        if (message.buffers) {\n",
       "          for (const buffer of message.buffers) {\n",
       "            buffers.push(buffer);\n",
       "            downloaded += buffer.byteLength;\n",
       "            progress.value = downloaded;\n",
       "          }\n",
       "        }\n",
       "      }\n",
       "      const blob = new Blob(buffers, {type: 'application/binary'});\n",
       "      const a = document.createElement('a');\n",
       "      a.href = window.URL.createObjectURL(blob);\n",
       "      a.download = filename;\n",
       "      div.appendChild(a);\n",
       "      a.click();\n",
       "      div.remove();\n",
       "    }\n",
       "  "
      ],
      "text/plain": [
       "<IPython.core.display.Javascript object>"
      ]
     },
     "metadata": {},
     "output_type": "display_data"
    },
    {
     "data": {
      "application/javascript": [
       "download(\"download_378f484c-c256-4e75-89d7-bba2a856f418\", \"ZGDYPW_Release_Table_2021-11-01.docx\", 39310)"
      ],
      "text/plain": [
       "<IPython.core.display.Javascript object>"
      ]
     },
     "metadata": {},
     "output_type": "display_data"
    }
   ],
   "source": [
    "files.download('/ZGDYPW_Release_Table_' + str_pubdate_latest +'.docx')"
   ]
  }
 ],
 "metadata": {
  "colab": {
   "authorship_tag": "ABX9TyMRFQrO9mwkrBKbW2CMP5DE",
   "collapsed_sections": [
    "QkqfZyMoUCvx",
    "J0XPUgCVSsWx",
    "AuZ8llVQd3Yx",
    "O-qxt3k1rIGs",
    "nkbKuKsmeH6i",
    "EzGrBBlfw5On",
    "HFEmA8-ZqyqO",
    "4u4LyUR1dtuq",
    "Bg25t0aMiTlv",
    "WR53mcvxnYNa",
    "XhTsUSXreq00",
    "NGNW6gaBiL5G"
   ],
   "mount_file_id": "1TDJt9dnK5edf5fGxlgW0keJhIEHm4MdW",
   "name": "zgdypw_Release.ipynb",
   "provenance": [],
   "toc_visible": true
  },
  "kernelspec": {
   "display_name": "Python 3 (ipykernel)",
   "language": "python",
   "name": "python3"
  },
  "language_info": {
   "codemirror_mode": {
    "name": "ipython",
    "version": 3
   },
   "file_extension": ".py",
   "mimetype": "text/x-python",
   "name": "python",
   "nbconvert_exporter": "python",
   "pygments_lexer": "ipython3",
   "version": "3.8.12"
  }
 },
 "nbformat": 4,
 "nbformat_minor": 4
}
